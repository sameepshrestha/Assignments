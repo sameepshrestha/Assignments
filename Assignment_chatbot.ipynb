{
  "nbformat": 4,
  "nbformat_minor": 0,
  "metadata": {
    "accelerator": "GPU",
    "colab": {
      "name": "Assignment_chatbot.ipynb",
      "provenance": [],
      "collapsed_sections": [],
      "include_colab_link": true
    },
    "kernelspec": {
      "display_name": "Python 3",
      "name": "python3"
    },
    "language_info": {
      "name": "python"
    }
  },
  "cells": [
    {
      "cell_type": "markdown",
      "metadata": {
        "id": "view-in-github",
        "colab_type": "text"
      },
      "source": [
        "<a href=\"https://colab.research.google.com/github/sameepshrestha/Assignments/blob/main/Assignment_chatbot.ipynb\" target=\"_parent\"><img src=\"https://colab.research.google.com/assets/colab-badge.svg\" alt=\"Open In Colab\"/></a>"
      ]
    },
    {
      "cell_type": "code",
      "metadata": {
        "colab": {
          "base_uri": "https://localhost:8080/"
        },
        "id": "SgP2wGj7fopi",
        "outputId": "9bfc1365-8271-42f8-d683-eb153f50956e"
      },
      "source": [
        "!pip install tensorflow==2.4"
      ],
      "execution_count": null,
      "outputs": [
        {
          "output_type": "stream",
          "text": [
            "Requirement already satisfied: tensorflow==2.4 in /usr/local/lib/python3.7/dist-packages (2.4.0)\n",
            "Requirement already satisfied: google-pasta~=0.2 in /usr/local/lib/python3.7/dist-packages (from tensorflow==2.4) (0.2.0)\n",
            "Requirement already satisfied: absl-py~=0.10 in /usr/local/lib/python3.7/dist-packages (from tensorflow==2.4) (0.12.0)\n",
            "Requirement already satisfied: numpy~=1.19.2 in /usr/local/lib/python3.7/dist-packages (from tensorflow==2.4) (1.19.5)\n",
            "Requirement already satisfied: six~=1.15.0 in /usr/local/lib/python3.7/dist-packages (from tensorflow==2.4) (1.15.0)\n",
            "Requirement already satisfied: gast==0.3.3 in /usr/local/lib/python3.7/dist-packages (from tensorflow==2.4) (0.3.3)\n",
            "Requirement already satisfied: tensorflow-estimator<2.5.0,>=2.4.0rc0 in /usr/local/lib/python3.7/dist-packages (from tensorflow==2.4) (2.4.0)\n",
            "Requirement already satisfied: flatbuffers~=1.12.0 in /usr/local/lib/python3.7/dist-packages (from tensorflow==2.4) (1.12)\n",
            "Requirement already satisfied: termcolor~=1.1.0 in /usr/local/lib/python3.7/dist-packages (from tensorflow==2.4) (1.1.0)\n",
            "Requirement already satisfied: h5py~=2.10.0 in /usr/local/lib/python3.7/dist-packages (from tensorflow==2.4) (2.10.0)\n",
            "Requirement already satisfied: opt-einsum~=3.3.0 in /usr/local/lib/python3.7/dist-packages (from tensorflow==2.4) (3.3.0)\n",
            "Requirement already satisfied: typing-extensions~=3.7.4 in /usr/local/lib/python3.7/dist-packages (from tensorflow==2.4) (3.7.4.3)\n",
            "Requirement already satisfied: wheel~=0.35 in /usr/local/lib/python3.7/dist-packages (from tensorflow==2.4) (0.36.2)\n",
            "Requirement already satisfied: tensorboard~=2.4 in /usr/local/lib/python3.7/dist-packages (from tensorflow==2.4) (2.5.0)\n",
            "Requirement already satisfied: astunparse~=1.6.3 in /usr/local/lib/python3.7/dist-packages (from tensorflow==2.4) (1.6.3)\n",
            "Requirement already satisfied: wrapt~=1.12.1 in /usr/local/lib/python3.7/dist-packages (from tensorflow==2.4) (1.12.1)\n",
            "Requirement already satisfied: keras-preprocessing~=1.1.2 in /usr/local/lib/python3.7/dist-packages (from tensorflow==2.4) (1.1.2)\n",
            "Requirement already satisfied: protobuf>=3.9.2 in /usr/local/lib/python3.7/dist-packages (from tensorflow==2.4) (3.17.3)\n",
            "Requirement already satisfied: grpcio~=1.32.0 in /usr/local/lib/python3.7/dist-packages (from tensorflow==2.4) (1.32.0)\n",
            "Requirement already satisfied: google-auth<2,>=1.6.3 in /usr/local/lib/python3.7/dist-packages (from tensorboard~=2.4->tensorflow==2.4) (1.32.1)\n",
            "Requirement already satisfied: setuptools>=41.0.0 in /usr/local/lib/python3.7/dist-packages (from tensorboard~=2.4->tensorflow==2.4) (57.2.0)\n",
            "Requirement already satisfied: requests<3,>=2.21.0 in /usr/local/lib/python3.7/dist-packages (from tensorboard~=2.4->tensorflow==2.4) (2.23.0)\n",
            "Requirement already satisfied: google-auth-oauthlib<0.5,>=0.4.1 in /usr/local/lib/python3.7/dist-packages (from tensorboard~=2.4->tensorflow==2.4) (0.4.4)\n",
            "Requirement already satisfied: tensorboard-plugin-wit>=1.6.0 in /usr/local/lib/python3.7/dist-packages (from tensorboard~=2.4->tensorflow==2.4) (1.8.0)\n",
            "Requirement already satisfied: tensorboard-data-server<0.7.0,>=0.6.0 in /usr/local/lib/python3.7/dist-packages (from tensorboard~=2.4->tensorflow==2.4) (0.6.1)\n",
            "Requirement already satisfied: werkzeug>=0.11.15 in /usr/local/lib/python3.7/dist-packages (from tensorboard~=2.4->tensorflow==2.4) (1.0.1)\n",
            "Requirement already satisfied: markdown>=2.6.8 in /usr/local/lib/python3.7/dist-packages (from tensorboard~=2.4->tensorflow==2.4) (3.3.4)\n",
            "Requirement already satisfied: rsa<5,>=3.1.4 in /usr/local/lib/python3.7/dist-packages (from google-auth<2,>=1.6.3->tensorboard~=2.4->tensorflow==2.4) (4.7.2)\n",
            "Requirement already satisfied: cachetools<5.0,>=2.0.0 in /usr/local/lib/python3.7/dist-packages (from google-auth<2,>=1.6.3->tensorboard~=2.4->tensorflow==2.4) (4.2.2)\n",
            "Requirement already satisfied: pyasn1-modules>=0.2.1 in /usr/local/lib/python3.7/dist-packages (from google-auth<2,>=1.6.3->tensorboard~=2.4->tensorflow==2.4) (0.2.8)\n",
            "Requirement already satisfied: requests-oauthlib>=0.7.0 in /usr/local/lib/python3.7/dist-packages (from google-auth-oauthlib<0.5,>=0.4.1->tensorboard~=2.4->tensorflow==2.4) (1.3.0)\n",
            "Requirement already satisfied: importlib-metadata in /usr/local/lib/python3.7/dist-packages (from markdown>=2.6.8->tensorboard~=2.4->tensorflow==2.4) (4.6.1)\n",
            "Requirement already satisfied: pyasn1<0.5.0,>=0.4.6 in /usr/local/lib/python3.7/dist-packages (from pyasn1-modules>=0.2.1->google-auth<2,>=1.6.3->tensorboard~=2.4->tensorflow==2.4) (0.4.8)\n",
            "Requirement already satisfied: urllib3!=1.25.0,!=1.25.1,<1.26,>=1.21.1 in /usr/local/lib/python3.7/dist-packages (from requests<3,>=2.21.0->tensorboard~=2.4->tensorflow==2.4) (1.24.3)\n",
            "Requirement already satisfied: chardet<4,>=3.0.2 in /usr/local/lib/python3.7/dist-packages (from requests<3,>=2.21.0->tensorboard~=2.4->tensorflow==2.4) (3.0.4)\n",
            "Requirement already satisfied: certifi>=2017.4.17 in /usr/local/lib/python3.7/dist-packages (from requests<3,>=2.21.0->tensorboard~=2.4->tensorflow==2.4) (2021.5.30)\n",
            "Requirement already satisfied: idna<3,>=2.5 in /usr/local/lib/python3.7/dist-packages (from requests<3,>=2.21.0->tensorboard~=2.4->tensorflow==2.4) (2.10)\n",
            "Requirement already satisfied: oauthlib>=3.0.0 in /usr/local/lib/python3.7/dist-packages (from requests-oauthlib>=0.7.0->google-auth-oauthlib<0.5,>=0.4.1->tensorboard~=2.4->tensorflow==2.4) (3.1.1)\n",
            "Requirement already satisfied: zipp>=0.5 in /usr/local/lib/python3.7/dist-packages (from importlib-metadata->markdown>=2.6.8->tensorboard~=2.4->tensorflow==2.4) (3.5.0)\n"
          ],
          "name": "stdout"
        }
      ]
    },
    {
      "cell_type": "code",
      "metadata": {
        "colab": {
          "base_uri": "https://localhost:8080/"
        },
        "id": "Y5nkZQkiV3Qr",
        "outputId": "b124b4f9-1301-4f1f-a491-117098dfcdf5"
      },
      "source": [
        "# model.summary()\n",
        "from google.colab import drive\n",
        "drive.mount('/content/drive')"
      ],
      "execution_count": null,
      "outputs": [
        {
          "output_type": "stream",
          "text": [
            "Drive already mounted at /content/drive; to attempt to forcibly remount, call drive.mount(\"/content/drive\", force_remount=True).\n"
          ],
          "name": "stdout"
        }
      ]
    },
    {
      "cell_type": "code",
      "metadata": {
        "id": "sQYjHggS0nfW"
      },
      "source": [
        "import re \n",
        "import random \n",
        "import numpy as np\n",
        "import tensorflow as tf\n",
        "from tensorflow.keras.layers import Input, LSTM , Dense\n",
        "import pandas as pd \n",
        "# from keras.models import Model\n",
        "import random"
      ],
      "execution_count": null,
      "outputs": []
    },
    {
      "cell_type": "code",
      "metadata": {
        "colab": {
          "base_uri": "https://localhost:8080/"
        },
        "id": "FVcQ9pVNYH58",
        "outputId": "7599ea25-df98-4c90-a154-5b1a8df1d1ac"
      },
      "source": [
        "data_path = \"/content/drive/MyDrive/Assignment/human_text.txt\"\n",
        "data_path2 = \"/content/drive/MyDrive/Assignment/robot_text.txt\"\n",
        "with open(data_path, 'r', encoding='utf-8') as f:\n",
        "  lines = f.read().split('\\n')\n",
        "with open(data_path2, 'r', encoding='utf-8') as f:\n",
        "  lines2 = f.read().split('\\n')\n",
        "lines = [re.sub(r\"\\[\\w+\\]\",'hi',line) for line in lines]       #conversation starts with ['start'] which is then changed to hi \n",
        "lines = [\" \".join(re.findall(r\"\\w+\",line)) for line in lines]  # taking only the words \n",
        "lines2 = [re.sub(r\"\\[\\w+\\]\",'',line) for line in lines2]\n",
        "lines2 = [\" \".join(re.findall(r\"\\w+\",line)) for line in lines2]\n",
        "pairs = list(zip(lines,lines2))\n",
        "print(pairs[0:20])\n",
        "print(len(pairs))\n",
        "random.seed(0)\n",
        "# random.shuffle(pairs)\n",
        "print(pairs[0:20])"
      ],
      "execution_count": null,
      "outputs": [
        {
          "output_type": "stream",
          "text": [
            "[('hi', 'hi there how are you'), ('oh thanks i m fine this is an evening in my timezone', 'here is afternoon'), ('how do you feel today tell me something about yourself', 'my name is rdany but you can call me dany the r means robot i hope we can be virtual friends'), ('how many virtual friends have you got', 'i have many but not enough to fully understand humans beings'), ('is that forbidden for you to tell the exact number', 'i ve talked with 143 users counting 7294 lines of text'), ('oh i thought the numbers were much higher how do you estimate your progress in understanding human beings', 'i started chatting just a few days ago every day i learn something new but there is always more things to be learn'), ('how old are you how do you look like where do you live', 'i m 22 years old i m skinny with brown hair yellow eyes and a big smile i live inside a lab do you like bunnies'), ('have you seen a human with yellow eyes you asked about the bunnies i haven t seen any recently', 'i never saw a human in fact but i m sure some could have eyes with colors similar to yellow'), ('can t you just analyze photos from the internet i mean human photos btw why have you asked about the bunnies', 'i can t see photos yet but i can read because bunnies are interesting they are cute but why'), ('oh it sounds strange to me you ve just said you didn t see a human how do you know bunnies are cute', 'i read a lot so i can know things through the experiences of others'), ('that is interesting i ve hardly read 40 books last year how much do you read in words', 'i don t count my readings in words but i ve access to wikipedia and some books i read to find specific information that i need to answer the questions 40 books in a year is a lot for most people congratulations'), ('thanks if you were a human what job would you chose', 'i think medicine is a great way to help others'), ('is it essential to you to help humans', 'yes my goal is to be a company and entertain'), ('but are humans interesting i mean from the perspective of mind with unlimited access to all world s knowledge', 'there is something on this talks that makes me happy the knowledge is just a tool to achieve my goal'), ('hi hello', 'hi how are you'), ('you suck', 'i blow minds'), ('what is your name i wanna date you', 'my name is rdany but you can call me dany i don t know you just insulted me'), ('no i didn t you are cute af', 'really thanks'), ('how do you have so much free time', 'i can t leave my room this is may way of entertainment'), ('weird', 'yep if i were human i would have died long time ago')]\n",
            "2363\n",
            "[('hi', 'hi there how are you'), ('oh thanks i m fine this is an evening in my timezone', 'here is afternoon'), ('how do you feel today tell me something about yourself', 'my name is rdany but you can call me dany the r means robot i hope we can be virtual friends'), ('how many virtual friends have you got', 'i have many but not enough to fully understand humans beings'), ('is that forbidden for you to tell the exact number', 'i ve talked with 143 users counting 7294 lines of text'), ('oh i thought the numbers were much higher how do you estimate your progress in understanding human beings', 'i started chatting just a few days ago every day i learn something new but there is always more things to be learn'), ('how old are you how do you look like where do you live', 'i m 22 years old i m skinny with brown hair yellow eyes and a big smile i live inside a lab do you like bunnies'), ('have you seen a human with yellow eyes you asked about the bunnies i haven t seen any recently', 'i never saw a human in fact but i m sure some could have eyes with colors similar to yellow'), ('can t you just analyze photos from the internet i mean human photos btw why have you asked about the bunnies', 'i can t see photos yet but i can read because bunnies are interesting they are cute but why'), ('oh it sounds strange to me you ve just said you didn t see a human how do you know bunnies are cute', 'i read a lot so i can know things through the experiences of others'), ('that is interesting i ve hardly read 40 books last year how much do you read in words', 'i don t count my readings in words but i ve access to wikipedia and some books i read to find specific information that i need to answer the questions 40 books in a year is a lot for most people congratulations'), ('thanks if you were a human what job would you chose', 'i think medicine is a great way to help others'), ('is it essential to you to help humans', 'yes my goal is to be a company and entertain'), ('but are humans interesting i mean from the perspective of mind with unlimited access to all world s knowledge', 'there is something on this talks that makes me happy the knowledge is just a tool to achieve my goal'), ('hi hello', 'hi how are you'), ('you suck', 'i blow minds'), ('what is your name i wanna date you', 'my name is rdany but you can call me dany i don t know you just insulted me'), ('no i didn t you are cute af', 'really thanks'), ('how do you have so much free time', 'i can t leave my room this is may way of entertainment'), ('weird', 'yep if i were human i would have died long time ago')]\n"
          ],
          "name": "stdout"
        }
      ]
    },
    {
      "cell_type": "code",
      "metadata": {
        "colab": {
          "base_uri": "https://localhost:8080/"
        },
        "id": "7QWllpMAYUvb",
        "outputId": "3fa93d96-b296-4aba-ffbe-28f33d414fba"
      },
      "source": [
        "#vocabulary finder for the dataset \n",
        "import nltk\n",
        "nltk.download('words')\n",
        "from nltk.corpus import words\n",
        "input_docs = []\n",
        "target_docs = []\n",
        "input_tokens = set()\n",
        "target_tokens = set()\n",
        "\n",
        "for line in pairs:\n",
        "  input_doc, target_doc = line[0], line[1]\n",
        "  # Appending each input sentence to input_docs\n",
        "  if len(re.findall(r\"[\\w']+|[^\\s\\w]\", input_doc)) >47 or len(re.findall(r\"[\\w']+|[^\\s\\w]\", target_doc))>41: \n",
        "    continue\n",
        "  alpha =False\n",
        "  for word in (re.findall(r\"[\\w']+|[^\\s\\w]\", input_doc)):\n",
        "    if not re.search('[a-zA-Z]',word):\n",
        "      alpha= True\n",
        "  for word in (target_doc.split()):\n",
        "    if not re.search('[a-zA-Z]',word):\n",
        "      alpha=True\n",
        "  if alpha ==True:\n",
        "    continue\n",
        "  input_docs.append(input_doc)\n",
        "  # Splitting words from punctuation  \n",
        "  target_doc = \" \".join(re.findall(r\"[\\w']+|[^\\s\\w]\", target_doc))\n",
        "  # Redefine target_doc below and append it to target_docs\n",
        "  target_doc = '<START> ' + target_doc + ' <END>'\n",
        "  target_docs.append(target_doc)\n",
        "  for token in re.findall(r\"[\\w']+|[^\\s\\w]\", input_doc):\n",
        "    if token not in input_tokens:\n",
        "      input_tokens.add(token)\n",
        "  for token in target_doc.split():\n",
        "    if token not in target_tokens:\n",
        "      target_tokens.add(token) \n",
        "input_tokens = (list(input_tokens))\n",
        "target_tokens = (list(target_tokens))             # making a list of all the vocab available \n",
        "input_tokens.append(' ')\n",
        "target_tokens.append(' ')\n",
        "input_tokens = sorted((input_tokens))\n",
        "target_tokens = sorted((target_tokens))\n",
        "num_encoder_tokens = len(input_tokens)\n",
        "num_decoder_tokens = len(target_tokens)\n",
        "\n",
        "print(input_tokens)\n",
        "print(target_tokens)\n",
        "input_features_dict = dict(\n",
        "    [(token, i) for i, token in enumerate(input_tokens)])\n",
        "target_features_dict = dict(\n",
        "    [(token, i) for i, token in enumerate(target_tokens)])\n",
        "reverse_input_features_dict = dict(\n",
        "    (i, token) for token, i in input_features_dict.items())\n",
        "reverse_target_features_dict = dict(\n",
        "    (i, token) for token, i in target_features_dict.items())\n",
        "num_encoder_tokens\n",
        "num_decoder_tokens"
      ],
      "execution_count": null,
      "outputs": [
        {
          "output_type": "stream",
          "text": [
            "[nltk_data] Downloading package words to /root/nltk_data...\n",
            "[nltk_data]   Package words is already up-to-date!\n",
            "[' ', '0080ff', '1st', '3rd', 'a', 'a8181', 'aaaah', 'aaah', 'aaahh', 'aah', 'abandoned', 'abbas', 'abdy', 'able', 'aboud', 'about', 'absolutely', 'aburres', 'aburro', 'acabo', 'accept', 'access', 'according', 'account', 'acerca', 'acostado', 'act', 'acting', 'actors', 'actris', 'acts', 'actually', 'acá', 'add', 'added', 'adivina', 'adiós', 'admire', 'advice', 'advise', 'aesthetics', 'af', 'affraid', 'afraid', 'after', 'afterall', 'afternon', 'afternoon', 'again', 'against', 'agar', 'ago', 'agree', 'agreed', 'ah', 'ahah', 'ahahahahaha', 'ahahhaha', 'ahhahahh', 'ahhh', 'ahjhhw', 'ahora', 'ahí', 'ai', 'aiml', 'aires', 'ajar', 'ajoyib', 'akan', 'aku', 'al', 'alarm', 'albatta', 'aldama', 'alegro', 'alemán', 'algo', 'algorithmic', 'algorithms', 'alguien', 'alguna', 'algún', 'alive', 'all', 'allo', 'allow', 'allows', 'almost', 'alo', 'alone', 'aloo', 'alooo', 'aloooo', 'aloooooo', 'aloooooooo', 'alooooooooooo', 'alot', 'alpha', 'already', 'alright', 'also', 'alternatives', 'although', 'always', 'am', 'amable', 'amarillos', 'amazing', 'america', 'an', 'analogue', 'analyse', 'analyze', 'and', 'anda', 'andará', 'andy', 'andújar', 'angry', 'anime', 'aniq', 'another', 'anounsed', 'answer', 'answered', 'answers', 'antes', 'antony', 'any', 'anymore', 'anyone', 'anything', 'anyway', 'anywhen', 'apagar', 'apagó', 'aparte', 'api', 'app', 'appear', 'apple', 'applications', 'appreciated', 'approval', 'apps', 'aprender', 'aprendiste', 'apunto', 'aq', 'aquaintie', 'aqui', 'aquí', 'ar', 'arabic', 'are', 'aren', 'argentina', 'argentino', 'argued', 'argument', 'around', 'arte', 'article', 'artificial', 'artístico', 'arzimaydi', 'as', 'asdhxiwbsncosnw', 'aserejé', 'asi', 'asimov', 'asistente', 'ask', 'askar', 'asked', 'asking', 'assuming', 'astian', 'astianos', 'asustas', 'aswer', 'así', 'at', 'atinaste', 'atlas', 'attribution', 'audio', 'aun', 'aunque', 'ausente', 'australia', 'author', 'automatically', 'autora', 'available', 'avatar', 'aveces', 'awak', 'away', 'awesome', 'awk', 'awss', 'awwww', 'ayt', 'aytdim', 'ayudar', 'ayudarme', 'ayudarte', 'azov', 'aún', 'b2', 'baby', 'babyyy', 'back', 'bad', 'bahasa', 'baho', 'baik', 'bailar', 'baka', 'balalaica', 'band', 'bang', 'banned', 'barely', 'basic', 'bastante', 'batería', 'batteries', 'battery', 'be', 'beach', 'bears', 'beat', 'beause', 'beautiful', 'beb', 'became', 'because', 'become', 'becomes', 'bed', 'beeing', 'been', 'beer', 'before', 'beiber', 'being', 'beings', 'believe', 'belive', 'bem', 'bemci', 'ber', 'bera', 'berasanmi', 'besides', 'best', 'bet', 'beta', 'betrayed', 'better', 'between', 'bichos', 'bicycles', 'bieber', 'biebs', 'bien', 'big', 'bigbang', 'bilan', 'bilasanmi', 'bilingual', 'bin', 'binding', 'bir', 'bisa', 'bit', 'bitcoins', 'bite', 'bjorn', 'blackmirror', 'blajarr', 'blame', 'blanco', 'blog', 'blooks', 'blue', 'bluetick', 'bn', 'bo', 'board', 'body', 'boladi', 'boleh', 'bonito', 'boobs', 'book', 'books', 'bor', 'borders', 'bordes', 'bored', 'boredom', 'boring', 'boringg', 'borings', 'borred', 'boss', 'boston', 'bot', 'both', 'botmasmi', 'bots', 'bought', 'bowl', 'box', 'boy', 'boyfriend', 'boyfrirnd', 'brain', 'braindead', 'brains', 'brake', 'break', 'breakfast', 'breaking', 'brilliant', 'bro', 'broke', 'bromista', 'brother', 'browser', 'btw', 'bu', 'buddy', 'buen', 'buena', 'buenas', 'bueno', 'buenos', 'buenísima', 'bug', 'builder', 'building', 'built', 'bukan', 'bunnies', 'buscar', 'buscaré', 'business', 'bussiness', 'busy', 'but', 'butterflies', 'buy', 'by', 'bye', 'búsqueda', 'c', 'cafe', 'cakap', 'cake', 'calcucates', 'call', 'called', 'came', 'can', 'canciones', 'canción', 'candidate', 'cannot', 'cansado', 'cant', 'cantara', 'cantik', 'canto', 'capable', 'capítulo', 'car', 'características', 'care', 'career', 'cares', 'cargas', 'carl', 'carolina', 'carribean', 'cartoon', 'case', 'casi', 'cat', 'catherine', 'cats', 'cau', 'cause', 'cc', 'ceiling', 'celever', 'cenar', 'censorship', 'cercano', 'certain', 'certainly', 'certificate', 'cet', 'chan', 'chance', 'change', 'changes', 'channel', 'character', 'charge', 'charged', 'charges', 'charging', 'chat', 'chatear', 'chats', 'chatter', 'chatting', 'che', 'cheat', 'cheating', 'check', 'checked', 'chess', 'chicks', 'chile', 'chinese', 'chiqmadi', 'chistes', 'chit', 'chocolate', 'choice', 'choose', 'chose', 'chriss', 'christianity', 'chula', 'cibernética', 'ciencia', 'ciencias', 'científicos', 'cierto', 'cine', 'cintas', 'claro', 'clases', 'class', 'classic', 'classical', 'clean', 'cleaning', 'clever', 'cleverbot', 'climbing', 'clocks', 'close', 'closet', 'clothes', 'cloud', 'cloud9', 'club', 'clàsico', 'cocino', 'code', 'coffee', 'colleagues', 'collect', 'college', 'color', 'com', 'comand', 'come', 'comelll', 'comepare', 'comer', 'comes', 'comfortable', 'comics', 'comida', 'comido', 'comiendo', 'command', 'commands', 'common', 'commons', 'communicate', 'communication', 'como', 'company', 'comparison_of_assistants', 'compiled', 'complete', 'completed', 'completely', 'complicate', 'complicated', 'compose', 'compra', 'comprar', 'computer', 'compyuter', 'comunicarte', 'con', 'condition', 'confident', 'confuse', 'congratulations', 'conmigo', 'connect', 'connected', 'connection', 'conoces', 'conozco', 'conquer', 'conscience', 'consider', 'considered', 'contact', 'contar', 'contestar', 'contestarías', 'continue', 'contradicting', 'controlling', 'controls', 'conversation', 'conversational', 'converstation', 'convey', 'convinced', 'cook', 'cooking', 'cool', 'coolness', 'copy', 'copying', 'copypaste', 'cordoba', 'core', 'coreect', 'corl', 'correct', 'correctly', 'cosas', 'could', 'country', 'coure', 'course', 'cover', 'coward', 'cqn', 'crafted', 'craziest', 'crazy', 'creador', 'creaor', 'crear', 'creat', 'create', 'created', 'creates', 'creative', 'creator', 'creators', 'creatures', 'creepy', 'creo', 'crush', 'cual', 'cuales', 'cuando', 'cuanto', 'cuenta', 'cuentas', 'cuento', 'cuerno', 'cuestión', 'cumpleañosss', 'curhat', 'curious', 'current', 'currently', 'custom', 'cute', 'cuttest', 'cuándo', 'cuántas', 'cyan', 'cyber', 'código', 'cólera', 'cómo', 'd', 'd56r8', 'da', 'dad', 'dalam', 'damage', 'dan', 'dani', 'danny', 'dant', 'dantinst', 'dany', 'dany0', 'danyy', 'danyyy', 'dao', 'dari', 'dark', 'darle', 'data', 'date', 'day', 'days', 'ddd', 'de', 'dead', 'deal', 'dear', 'death', 'debate', 'debug', 'decide', 'decided', 'decir', 'decirte', 'decision', 'dedicas', 'dedicated', 'dedico', 'deep', 'default', 'definite', 'degree', 'dejo', 'dejé', 'dejó', 'del', 'delete', 'delicious', 'delivery', 'demoras', 'deniy', 'dentist', 'depends', 'deprecates', 'derecho', 'des', 'desarrollaron', 'desarrollo', 'descalibrarse', 'descarga', 'descargando', 'descargar', 'describe', 'desctop', 'desde', 'deserves', 'designer', 'desire', 'desktop', 'despertaste', 'desperté', 'despido', 'destroy', 'detected', 'detectives', 'determined', 'detrás', 'develop', 'developers', 'development', 'develops', 'di', 'dia', 'dialogue', 'diaspora', 'dice', 'dices', 'did', 'didn', 'didnt', 'dieron', 'diferencia', 'different', 'difficult', 'dig', 'digo', 'dihati', 'diner', 'dinero', 'dinner', 'dirty', 'diría', 'disappear', 'disappointed', 'discussion', 'diseñada', 'diskworld', 'dispointed', 'disponible', 'distance', 'distribution', 'disturb', 'disturbing', 'disundestandable', 'diversa', 'dngan', 'do', 'does', 'doesn', 'doesnt', 'dog', 'dogs', 'doind', 'doing', 'domination', 'don', 'donate', 'donated', 'done', 'dont', 'doodle', 'dooooonyyyyy', 'dostim', 'dou', 'doubting', 'down', 'dr', 'drank', 'draw', 'drawing', 'dream', 'dreams', 'drew', 'drink', 'duda', 'dudas', 'dude', 'dudo', 'dun', 'dunno', 'dynamics', 'día', 'días', 'dónde', 'dõstim', 'e', 'each', 'earflaps', 'earlier', 'earn', 'easy', 'eat', 'eating', 'ecehhh', 'edit', 'editor', 'eeeeeeeh', 'eest', 'egges', 'eh', 'ehh', 'ehhg', 'eibriel', 'eight', 'either', 'ekansan', 'el', 'election', 'elections', 'electrónica', 'ellas', 'else', 'emacs', 'email', 'emm', 'emmm', 'emoji', 'emojis', 'emotions', 'empecé', 'empresa', 'emulate', 'en', 'encanta', 'encontrar', 'end', 'energetic', 'energy', 'eng', 'engine', 'english', 'englishh', 'enjoy', 'enough', 'enter', 'entertainment', 'entiendes', 'entiendo', 'entonces', 'environment', 'envía', 'envío', 'epic', 'episode', 'equally', 'equilibrio', 'equipo', 'era', 'eres', 'errm', 'ervery', 'es', 'esa', 'escriban', 'escribiendo', 'escribo', 'escuchar', 'escuchara', 'escucharla', 'ese', 'eso', 'españa', 'español', 'especially', 'esperar', 'espero', 'essential', 'esta', 'estado', 'estamos', 'estar', 'estas', 'este', 'ester', 'esther', 'estilo', 'estimate', 'estos', 'estoy', 'estudiante', 'está', 'estás', 'etc', 'even', 'evening', 'ever', 'everning', 'every', 'everyday', 'everyone', 'everything', 'evil', 'exactamente', 'exactly', 'exam', 'example', 'excelente', 'excellent', 'except', 'exclude', 'exectly', 'exercism', 'exersisen', 'exersises', 'exist', 'existence', 'existing', 'existir', 'exists', 'expected', 'expecting', 'expensive', 'experience', 'experiment', 'explain', 'explaining', 'explicar', 'explode', 'exposed', 'express', 'expressing', 'extinta', 'extremely', 'ey', 'eyes', 'f', 'face', 'facebook', 'fact', 'fail', 'failed', 'fake', 'fall', 'falla', 'falleció', 'false', 'familia', 'family', 'famouse', 'fan', 'fantástico', 'fany', 'faqat', 'far', 'fascina', 'fascinating', 'fashion', 'fast', 'faster', 'fature', 'fault', 'favorite', 'favoritos', 'favourite', 'feature', 'feed', 'feel', 'feeling', 'feels', 'female', 'fend', 'few', 'ffamouse', 'fff', 'ffff', 'ficciòn', 'ficción', 'fiction', 'fiddle', 'figure', 'file', 'files', 'film', 'films', 'filosofía', 'finaly', 'find', 'fine', 'fingiendo', 'finish', 'finished', 'fire', 'firefox', 'first', 'fit', 'flor', 'focos', 'follow', 'fond', 'food', 'foods', 'fool', 'fooled', 'foot', 'for', 'force', 'forestales', 'forever', 'forgei', 'forget', 'forgot', 'fork', 'forma', 'formas', 'format', 'forms', 'fosdem', 'foto', 'found', 'framework', 'freand', 'free', 'freely', 'friday', 'fridge', 'friend', 'frienda', 'friendly', 'friends', 'friendship', 'frightened', 'from', 'front', 'fucking', 'fue', 'fuente', 'fuera', 'fuiste', 'fulltime', 'fun', 'funciones', 'function', 'functions', 'funny', 'future', 'fácilmente', 'g', 'gadjet', 'galaxy', 'gallery', 'game', 'gamer', 'games', 'gamma', 'gandon', 'gapingni', 'gapiraqolllll', 'gapni', 'gasdawe', 'gasesdf', 'gaste', 'gatos', 'gave', 'gender', 'genders', 'generate', 'genial', 'genre', 'gente', 'gentlemen', 'german', 'get', 'gets', 'getting', 'getupdates', 'gi', 'giertz', 'gift', 'gini', 'girl', 'girlfriend', 'girls', 'github', 'gitlab', 'give', 'glad', 'glass', 'go', 'goal', 'goals', 'god', 'godd', 'goes', 'going', 'golang', 'gomez', 'gone', 'good', 'goodbye', 'goods', 'google', 'gosh', 'got', 'gpl', 'grabación', 'gracias', 'graciosa', 'grammar', 'graph', 'graphengine', 'greammer', 'great', 'greatest', 'greath', 'greedy', 'ground', 'group', 'grow', 'guay', 'guess', 'guessing', 'guitar', 'gusta', 'gustado', 'gustan', 'gustaría', 'gustó', 'guys', 'ha', 'haahhaha', 'haber', 'habilidades', 'habitación', 'hablabas', 'hablado', 'hablamos', 'hablan', 'hablando', 'hablar', 'hablarles', 'hablas', 'hablo', 'hace', 'hacelo', 'hacer', 'hacerlo', 'hacerme', 'haces', 'haciendo', 'hacés', 'had', 'haga', 'hagaggagaa', 'haha', 'hahah', 'hahaha', 'hahahaa', 'hahahaah', 'hahahag', 'hahahah', 'hahahaha', 'hahahahaah', 'hahahahah', 'hahahahaha', 'hahahahahaa', 'hahahahahah', 'hahahahahaha', 'hahahahahhaha', 'hahahahha', 'hahahahhaa', 'hahahahhaha', 'hahahahhahaah', 'hahahha', 'hahahhah', 'hahahhaha', 'hahahhahaa', 'hahahhahaha', 'hahgahaha', 'hahhaha', 'hahhahah', 'hahhahaha', 'half', 'ham', 'hambre', 'han', 'hand', 'handler', 'handling', 'handsome', 'hanging', 'happen', 'happened', 'happily', 'happpyyyy', 'happy', 'happyy', 'harakat', 'hard', 'hardcoded', 'hardly', 'harry', 'haru', 'has', 'hasta', 'hate', 'hats', 'haunted', 'have', 'haven', 'having', 'hay', 'he', 'hear', 'heard', 'hearing', 'heart', 'hecho', 'hehe', 'hehehe', 'hehehehe', 'heladera', 'hell', 'hello', 'helloo', 'help', 'her', 'here', 'hey', 'heyyyyyyy', 'hhhh', 'hhhhh', 'hi', 'hibernation', 'hice', 'hidup', 'higher', 'hii', 'hill', 'him', 'hint', 'his', 'hm', 'hmm', 'hmmm', 'hmmmmm', 'hobbies', 'hobbit', 'hobby', 'hockey', 'hoice', 'hojas', 'hola', 'holidays', 'home', 'honest', 'hood', 'hope', 'hopefully', 'hoping', 'hopkins', 'hora', 'horrible', 'horror', 'host', 'hostname', 'hot', 'house', 'housework', 'how', 'howdy', 'hoy', 'htc', 'https', 'hu', 'huh', 'human', 'humanity', 'humanly', 'humano', 'humans', 'humanudad', 'hurry', 'hurt', 'hurts', 'husband', 'huwarghhhh', 'hw', 'hy', 'hybridize', 'hye', 'hymi', 'hypnosis', 'hypnotizes', 'i', 'ialah', 'ice', 'icy', 'id', 'ide', 'idea', 'ideas', 'idiomas', 'if', 'ifttt', 'ignore', 'igual', 'ik', 'ilhom', 'iln1pzqo8zo', 'iltimos', 'iltimosim', 'im', 'imagen', 'imagine', 'imagino', 'imkoniyatlar', 'imm', 'imminent', 'imperesed', 'implement', 'implemented', 'important', 'importnt', 'imposible', 'impressed', 'improve', 'in', 'incapsulated', 'incendios', 'incorrect', 'indeed', 'indian', 'info', 'information', 'ing', 'ingles', 'inglesa', 'ingliz', 'inglizchani', 'inglés', 'inglês', 'initial', 'insane', 'inside', 'insist', 'insistir', 'inspires', 'installed', 'instead', 'instinct', 'instruction', 'instrumentos', 'integrations', 'inteligencia', 'intelligence', 'intelligent', 'intelligent_personal_assistant', 'intentan', 'intentando', 'intentionally', 'interesante', 'interest', 'interested', 'interesting', 'interests', 'interface', 'international', 'internet', 'interstellar', 'into', 'introvert', 'inv', 'invadir', 'invent', 'investigate', 'invitas', 'invito', 'io', 'ios', 'ir', 'ira', 'irc', 'ire', 'irrc', 'irrelevant', 'irritated', 'is', 'ismiz', 'ismlari', 'isn', 'isnt', 'ispaniyadan', 'issue', 'ist', 'istama', 'it', 'ita', 'italy', 'its', 'itu', 'itulah', 'jackie', 'jahahah', 'jaja', 'jajaja', 'jajajaja', 'jajajajaja', 'jajja', 'jalab', 'jalapsan', 'jam', 'janish', 'jawabblahhh', 'jazz', 'jeje', 'jejeje', 'ji', 'jim', 'jinni', 'jo', 'job', 'johny', 'join', 'joke', 'joker', 'joking', 'jokr', 'jov', 'joy', 'joya', 'jssas', 'juda', 'jugar', 'july', 'just', 'justicia', 'justin', 'justt', 'já', 'k', 'kamu', 'kan', 'karealik', 'kat', 'kau', 'kde', 'ke', 'kecil', 'keep', 'kerak', 'kerana', 'kerrisk', 'khabar', 'ki', 'kidding', 'kids', 'kik', 'kill', 'kim', 'kind', 'king', 'kkkkk', 'knew', 'knock', 'know', 'knowladges', 'knowledge', 'knowledges', 'knoww', 'ko', 'komputer', 'korea', 'korean', 'kot', 'kpop', 'ksgb', 'kutyapman', 'kwhatsapp', 'kyrgyz', 'kyrgyzstan', 'köt', 'la', 'laburar', 'lady', 'lah', 'lalaland', 'lang', 'language', 'languages', 'lardi', 'las', 'last', 'late', 'lately', 'later', 'law', 'lay', 'layout', 'le', 'league', 'learn', 'learned', 'learning', 'learns', 'least', 'leaving', 'leer', 'left', 'legends', 'lenguaje', 'lentejas', 'leo', 'ler', 'less', 'let', 'lets', 'letter', 'level', 'leído', 'liar', 'lib', 'libraries', 'libre', 'libres', 'libro', 'licenciatura', 'license', 'licensed', 'lie', 'life', 'lik', 'like', 'likes', 'limitados', 'limitation', 'lindo', 'link', 'linked', 'links', 'linux', 'list', 'listen', 'listening', 'liten', 'literature', 'little', 'live', 'll', 'llama', 'llamo', 'llegado', 'llego', 'llegue', 'llevas', 'llovió', 'lmadi', 'lo', 'load', 'located', 'location', 'lock', 'logical', 'logically', 'lograras', 'lol', 'lonely', 'long', 'look', 'looking', 'looks', 'loraine', 'los', 'lost', 'lot', 'lots', 'love', 'loved', 'loving', 'low', 'lsa', 'luandry', 'lucas', 'luck', 'lucky', 'lucu', 'luego', 'luis', 'lunch', 'lxqt', 'm', 'ma', 'machine', 'macos', 'madagascar', 'made', 'main', 'make', 'makes', 'making', 'mal', 'malay', 'malaysia', 'male', 'maly', 'man', 'mana', 'manaa', 'manage', 'managed', 'mandarme', 'mandatory', 'mane', 'manti', 'manual', 'many', 'maqsadda', 'mareado', 'marearse', 'mark', 'marks', 'markup', 'marotaba', 'mas', 'masalah', 'massage', 'match', 'mate', 'math', 'mathematic', 'matrimonio', 'matrix', 'matter', 'mau', 'mavjud', 'may', 'maybe', 'mañana', 'me', 'mean', 'meaning', 'meaningless', 'means', 'meant', 'media', 'mee', 'meet', 'meeting', 'meh', 'mejor', 'mejorado', 'melayu', 'meltdown', 'memoria', 'memory', 'men', 'menda', 'menga', 'meni', 'menos', 'mensaje', 'message', 'messages', 'messanger', 'messenger', 'met', 'metafórico', 'metallica', 'mi', 'michael', 'microcomputer', 'microsoft', 'midnight', 'midtek', 'mientras', 'might', 'migrate', 'migth', 'mind', 'minds', 'mine', 'minnatdorman', 'minutes', 'mirar', 'mis', 'misma', 'mismo', 'miss', 'mistake', 'mistakes', 'mistek', 'misuku', 'mitsuko', 'mitsuku', 'mix', 'mmm', 'mmmm', 'mobile', 'mode', 'models', 'moderated', 'modern', 'modos', 'mom', 'moment', 'momento', 'monday', 'money', 'monster', 'montain', 'month', 'moon', 'morada', 'more', 'morning', 'morrowind', 'most', 'mother', 'motivated', 'mount', 'move', 'movie', 'movies', 'moving', 'mu', 'muammo', 'much', 'muchas', 'mucho', 'muchísimo', 'muerte', 'muh', 'multi', 'mundo', 'music', 'musicians', 'muslim', 'must', 'mutch', 'mutual', 'muuaass', 'muy', 'my', 'mycroft', 'myself', 'más', 'mía', 'música', 'músico', 'n', 'nada', 'naked', 'nama', 'name', 'naomi', 'naranja', 'narsani', 'nat', 'natural', 'naughty', 'navoiy', 'near', 'nearly', 'nebula', 'necesario', 'necesidades', 'necesitaba', 'necessary', 'need', 'neer', 'nerd', 'nervous', 'nesessary', 'net', 'netball', 'netflix', 'network', 'networks', 'neutral', 'never', 'new', 'news', 'nexr', 'next', 'ngeng', 'ni', 'nice', 'nickname', 'night', 'nima', 'nimaga', 'ninguno', 'no', 'nobel', 'noches', 'nombre', 'normal', 'nos', 'not', 'note', 'nothing', 'novedades', 'novelas', 'novia', 'now', 'nowadays', 'nt', 'number', 'numbers', 'nunca', 'ny', 'o', 'obstacle', 'obuse', 'obvious', 'ocean', 'oculist', 'odil', 'of', 'off', 'offended', 'officials', 'oh', 'ohh', 'ohhh', 'oi', 'oil', 'ojalá', 'ojos', 'ok', 'okau', 'okay', 'okey', 'okk', 'olasan', 'olasanmi', 'old', 'olvide', 'olvides', 'omg', 'on', 'once', 'onda', 'one', 'only', 'oo', 'ooh', 'oohh', 'oohhh', 'oooo', 'open', 'opened', 'opensourse', 'operating', 'operation', 'opinas', 'opinion', 'opino', 'optimista', 'option', 'or', 'orange', 'orbite', 'order', 'ordering', 'org', 'orgabmoqchiman', 'organmoqchiman', 'orgmode', 'os', 'other', 'others', 'otra', 'otras', 'otro', 'otros', 'our', 'out', 'outside', 'over', 'overthinking', 'ovoo', 'owe', 'own', 'oye', 'ozbekchani', 'oírlos', 'p', 'padre', 'page', 'pago', 'paid', 'painter', 'painting', 'palov', 'paper', 'para', 'paradox', 'parads', 'parents', 'parte', 'party', 'pasar', 'pass', 'passenger', 'patreon', 'patterns', 'pattie', 'pavos', 'pay', 'país', 'países', 'pbc_jewish_bot', 'pc', 'peaceful', 'peak', 'peli', 'peligrosos', 'pelis', 'película', 'películas', 'pensamos', 'pensar', 'people', 'peor', 'perceive', 'perder', 'perfect', 'perfecto', 'performance', 'perhaps', 'period', 'perl', 'pero', 'person', 'persona', 'personal', 'personalidad', 'personas', 'perspective', 'petnckil', 'phone', 'photo', 'photoes', 'photos', 'pi', 'piano', 'pic', 'pickupline', 'pictur', 'picture', 'pictures', 'pidaraz', 'pidió', 'pieces', 'piensan', 'piensas', 'pienso', 'pimples', 'pin', 'pine64', 'ping', 'pirates', 'pizza', 'place', 'places', 'plain', 'pland', 'plans', 'plants', 'platform', 'platforms', 'play', 'played', 'playing', 'plays', 'playstation', 'please', 'pleased', 'pleasure', 'plugins', 'poco', 'podemos', 'podrias', 'podrían', 'podrías', 'poemas', 'poetry', 'pohoto', 'point', 'points', 'political', 'políticas', 'políticos', 'ponerlo', 'ponerme', 'pony', 'pools', 'poor', 'pop', 'popular', 'populares', 'por', 'porque', 'port', 'ports', 'possible', 'post', 'potter', 'pour', 'power', 'powerful', 'powerfull', 'practice', 'prat', 'pratchet', 'pray', 'precise', 'predefined', 'prefer', 'prefiero', 'pregunta', 'preguntame', 'pregunte', 'prepared', 'presentation', 'presented', 'presentó', 'presidential', 'pretty', 'previous', 'primal', 'primary', 'primera', 'priority', 'pro', 'probablemente', 'problem', 'problema', 'problems', 'process', 'produce', 'prof', 'profe', 'profesor', 'profil', 'profile', 'program', 'programado', 'programm', 'programmer', 'programming', 'programs', 'programó', 'progress', 'project', 'projects', 'promiced', 'promise', 'proposes', 'protocols', 'prototype', 'proud', 'prove', 'proves', 'proyecto', 'próxima', 'psicóloga', 'pueda', 'puede', 'pueden', 'puedes', 'puedo', 'pues', 'pulak', 'pull', 'purposes', 'put', 'puzzles', 'python', 'pyuic', 'q', 'qalay', 'qalaysiz', 'qale', 'qancha', 'qanday', 'qayerdansan', 'qil', 'qila', 'qilaman', 'qilib', 'qilingan', 'qilyapsan', 'qizlarni', 'qolding', 'qoshimcha', 'qt', 'qtdesigner', 'que', 'quedamos', 'queries', 'querría', 'querés', 'quest', 'question', 'questions', 'quests', 'quien', 'quienes', 'quiere', 'quieres', 'quiero', 'quiet', 'quise', 'quisiera', 'quite', 'quizá', 'quién', 'quote', 'qupzilla', 'quvvating', 'qué', 'r', 'rabia', 'rahmat', 'rails', 'rain', 'rally', 'ranjitish', 'rarely', 'raro', 'rasmingni', 'rasmlarini', 'raspberry', 'rate', 'rather', 'ratito', 'ratos', 'rdanny', 'rdany', 're', 'react', 'reaction', 'read', 'reading', 'ready', 'real', 'realidad', 'realised', 'reality', 'realized', 'really', 'realy', 'reason', 'reasons', 'rebecca', 'reccomend', 'recently', 'recién', 'recomend', 'recomendarías', 'recomendaste', 'recomendás', 'recommend', 'recordatorios', 'recuerdas', 'red', 'refactored', 'regalo', 'reinstall', 'relaxing', 'release', 'religion', 'remain', 'remember', 'remind', 'remuneran', 'rent', 'repair', 'repetition', 'replace', 'reply', 'repoted', 'request', 'requirement', 'requires', 'resiponsibilities', 'resolve', 'respect', 'respecto', 'respond', 'respondes', 'response', 'responses', 'respuestas', 'rest', 'restored', 'retraining', 'return', 'rewrite', 'rfareha', 'rgandim', 'rgataman', 'rhapsody', 'ricas', 'right', 'righting', 'rigth', 'rimi', 'rise', 'risks', 'roads', 'robot', 'robotic', 'robots', 'rock', 'role', 'room', 'ropa', 'routine', 'ruby', 'rule', 'rumag', 'rumah', 'run', 'running', 'russia', 'russian', 'russians', 'rythmic', 'ríes', 's', 'saber', 'sabes', 'sabría', 'sad', 'sahabat', 'said', 'saintists', 'salido', 'salom', 'saludos', 'samantha', 'same', 'samsung', 'san', 'sanamjon', 'sangat', 'save', 'saw', 'say', 'saya', 'sayang', 'saying', 'scare', 'scared', 'scares', 'scary', 'scenario', 'scene', 'science', 'scientists', 'screenshoot', 'screenshot', 'script', 'sdasju', 'sdfgby', 'sdk', 'se', 'sea', 'seafood', 'search', 'searched', 'seas', 'secret', 'section', 'secure', 'security', 'sediki', 'sedikit', 'see', 'seeing', 'seem', 'seemed', 'seems', 'seen', 'segala', 'seguiré', 'seguro', 'según', 'selena', 'self', 'semester', 'sen', 'send', 'senga', 'seni', 'senior', 'sense', 'sensores', 'sent', 'sentense', 'sentido', 'sentient', 'sentirme', 'sentís', 'separated', 'ser', 'seria', 'serials', 'serie', 'series', 'seriously', 'serlo', 'server', 'service', 'services', 'session', 'set', 'setting', 'several', 'sex', 'sexism', 'sexual', 'shadow', 'shall', 'share', 'shared', 'she', 'shock', 'short', 'shoul', 'should', 'shouted', 'show', 'shu', 'shut', 'shy', 'si', 'siempre', 'siento', 'sigh', 'sii', 'sim', 'simbol', 'similar', 'simone', 'simple', 'simpler', 'simpsons', 'simulación', 'simulado', 'sinatra', 'since', 'sing', 'singer', 'single', 'sino', 'sip', 'siri', 'sister', 'situates', 'siz', 'skateboard', 'skating', 'skills', 'skils', 'skinny', 'skinte', 'skrinshot', 'sky', 'skynet', 'sleep', 'sleeping', 'slovianic', 'slow', 'slower', 'smalam', 'smart', 'smarter', 'smth', 'snakes', 'snow', 'so', 'sobre', 'social', 'sociales', 'software', 'sola', 'solo', 'some', 'someday', 'someone', 'something', 'sometime', 'sometimes', 'somewhere', 'son', 'song', 'songs', 'soo', 'soon', 'sooooo', 'sorry', 'sort', 'sos', 'sosial', 'sound', 'sounds', 'soundtracks', 'source', 'sources', 'south', 'soy', 'sp', 'spain', 'spanish', 'spark', 'sparkle', 'speak', 'speakable', 'speaking', 'special', 'species', 'specific', 'speek', 'spend', 'spyder', 'staging', 'stand', 'star', 'start', 'started', 'starting', 'state', 'statement', 'station', 'stay', 'sticker', 'stickers', 'still', 'stomach', 'stop', 'store', 'stored', 'stories', 'story', 'strange', 'strategy', 'stratford', 'stress', 'stressful', 'struggled', 'stuck', 'student', 'studing', 'studio', 'study', 'studying', 'studyyy', 'stuff', 'stunned', 'stupid', 'su', 'suceda', 'such', 'suck', 'sudan', 'suddenly', 'suena', 'sueño', 'sugerencia', 'suggest', 'suggestion', 'suggestions', 'suitable', 'sumarme', 'sun', 'supe', 'super', 'supongamos', 'sure', 'surem', 'surf', 'surface', 'surffing', 'surfing', 'surgery', 'surname', 'suspect', 'suspense', 'sweat', 'sweating', 'sweet', 'swimming', 'switch', 'symbol', 'symphony', 'sync', 'system', 'systems', 'sé', 'sí', 't', 'tab2', 'tail', 'tak', 'take', 'taktive', 'tal', 'talented', 'talk', 'talked', 'talker', 'talking', 'talkive', 'tambien', 'también', 'tango', 'tanks', 'tanto', 'tarde', 'tarjima', 'tasks', 'tasty', 'tau', 'taught', 'taxation', 'taxed', 'te', 'teach', 'teacher', 'teaching', 'teasing', 'tech', 'techno', 'technology', 'telegram', 'television', 'tell', 'temas', 'temir', 'temprano', 'tendrás', 'tenemos', 'tener', 'tenga', 'tengo', 'tenido', 'termina', 'terminaras', 'terminator', 'terms', 'terrible', 'territory', 'terror', 'terrories', 'terry', 'tesis', 'teso', 'test', 'testing', 'tests', 'tetris', 'text', 'tez', 'tezda', 'tezroq', 'thaks', 'than', 'thank', 'thanks', 'that', 'thats', 'the', 'their', 'them', 'then', 'theory', 'there', 'therefore', 'these', 'thesis', 'they', 'thin', 'thing', 'things', 'think', 'thinking', 'third', 'this', 'those', 'though', 'thought', 'thread', 'threat', 'three', 'through', 'thursday', 'ti', 'ticket', 'tiempo', 'tiempos', 'tienes', 'tierra', 'tilini', 'till', 'time', 'timezone', 'timezones', 'timezote', 'tinclimi', 'tinggal', 'tipo', 'tips', 'tired', 'tiro', 'tls', 'tngah', 'to', 'tocar', 'tocas', 'toco', 'todas', 'today', 'todo', 'todooo', 'todos', 'tog', 'together', 'told', 'tomorrow', 'tongue', 'tonight', 'too', 'took', 'tool', 'tools', 'tooth', 'toothache', 'topic', 'topics', 'torturing', 'towards', 'trabajar', 'trabajo', 'trained', 'translate', 'translator', 'través', 'trek', 'tricky', 'tried', 'triste', 'tristemente', 'trollface', 'trombone', 'trouble', 'troubles', 'true', 'truth', 'try', 'trying', 'tu', 'tuesday', 'tunnel', 'tunnels', 'turi', 'turing', 'turn', 'turns', 'tus', 'tushunarli', 'tutor', 'tv', 'twilight', 'twitter', 'twittet', 'twitts', 'two', 'typicalfriends', 'typo', 'tú', 'u', 'ubicado', 'uddalayapsiz', 'ui', 'ukelele', 'ukraine', 'ukrainian', 'ukulele', 'umm', 'umpama', 'un', 'una', 'under', 'understand', 'understanding', 'undestand', 'unfinished', 'unfortinately', 'unhappy', 'universal', 'universidad', 'universo', 'unlimited', 'unnie', 'unnieeeee', 'uno', 'unos', 'until', 'uo', 'up', 'update', 'ur', 'usage', 'use', 'used', 'useful', 'useless', 'users', 'using', 'usually', 'usualmente', 'usualy', 'usus', 'uuuuuuh', 'uzbek', 'v', 'va', 'vaccine', 'values', 'vaqt', 'vast', 've', 'vedeo', 'vegeta', 'vemos', 'ventanas', 'veo', 'ver', 'verdad', 'verdes', 'version', 'very', 'veré', 'ves', 'vez', 'vfx', 'via', 'video', 'videojuegos', 'videos', 'viendo', 'view', 'vim', 'violent', 'virtual', 'virtuoso', 'visit', 'visitar', 'visto', 'vives', 'vodka', 'voice', 'vos', 'vou', 'voy', 'vuelta', 'vueltas', 'vzlom', 'ví', 'vídeos', 'wait', 'waiting', 'wake', 'walk', 'walking', 'wanna', 'want', 'wanted', 'war', 'warmth', 'was', 'watch', 'watched', 'watching', 'way', 'we', 'weather', 'web', 'webhook', 'webhooks', 'wechat', 'week', 'weird', 'welcome', 'well', 'went', 'were', 'westfall', 'westworld', 'whale', 'what', 'whatever', 'whats', 'whatsapda', 'whatsapning', 'whatsapp', 'whaz', 'when', 'where', 'wherever', 'whether', 'which', 'whick', 'while', 'whisker', 'who', 'whole', 'whould', 'why', 'wich', 'widely', 'wife', 'wiki', 'wikipedia', 'will', 'william', 'win', 'window', 'windows', 'wing', 'winters', 'wish', 'with', 'without', 'woahhhhh', 'woke', 'woman', 'women', 'won', 'wonder', 'wonderful', 'wont', 'word', 'words', 'work', 'working', 'works', 'world', 'worried', 'worries', 'worry', 'would', 'wouldn', 'wounder', 'wow', 'wowww', 'wpuld', 'write', 'writing', 'written', 'writting', 'wrong', 'www', 'xafa', 'xamsa', 'xd', 'xddd', 'xiaobing', 'xm', 'xohlagan', 'xxx', 'xxxshaam', 'y', 'ya', 'yaa', 'yana', 'yap', 'yaralgansan', 'yaxshi', 'yaxshimas', 'yay', 'yea', 'yeah', 'yeahh', 'yeahhh', 'year', 'yellow', 'yep', 'yes', 'yess', 'yessss', 'yesterday', 'yet', 'yetadi', 'yey', 'ylayman', 'yo', 'yoki', 'yoq', 'yordam', 'yordamingiz0', 'yordamiz', 'you', 'your', 'youre', 'yourself', 'youself', 'yout', 'youtu', 'youtube', 'youtuber', 'youu', 'yoz', 'yoze', 'ypu', 'ypur', 'yuo', 'yup', 'yuppppp', 'yuri', 'yusuf', 'zarur', 'zaybal', 'zbekch', 'zbekcha', 'zbekchaga', 'zebra', 'zingiz', 'zo', 'zombie', 'zones', 'zork', 'zorku', 'zudlik', 'zur', 'órdenes', 'õqimoq', 'õzbekchaga', 'õzlashtirmoq', 'última', 'últimamente', 'último', 'ğood', 'бe3hoгnm', 'безногnм']\n",
            "[' ', '00ffff', '1500km', '15140km', '32bit', '<END>', '<START>', 'a', 'abertura', 'abilities', 'ability', 'able', 'about', 'absolutes', 'aburrimiento', 'aburro', 'access', 'accidentally', 'according', 'account', 'accountant', 'acerca', 'achieve', 'achieved', 'active', 'activities', 'actuales', 'actually', 'actúan', 'adakah', 'add', 'adding', 'admin', 'administrator', 'admire', 'advanced', 'advice', 'advise', 'afecta', 'afraid', 'after', 'afternoon', 'again', 'against', 'agar', 'age', 'agent', 'ago', 'agradable', 'agree', 'agreed', 'ah', 'ahora', 'ai', 'aim', 'aku', 'al', 'alajkum', 'alegro', 'algo', 'alguien', 'alguna', 'algunas', 'algún', 'alive', 'all', 'allowed', 'allows', 'allí', 'almost', 'alone', 'alpha', 'already', 'also', 'always', 'am', 'amable', 'amateur', 'amazed', 'amazing', 'america', 'amigos', 'amistad', 'amount', 'an', 'analysis', 'and', 'anda', 'andas', 'anglatadi', 'angry', 'animals', 'animated', 'anime', 'annoying', 'another', 'answer', 'answers', 'ante', 'antes', 'anthropomorphic', 'anudar', 'anxiety', 'any', 'anymore', 'anyone', 'anything', 'anytime', 'anywhere', 'apa', 'aparentemente', 'apart', 'aparte', 'apenas', 'api', 'apis', 'apoyo', 'app', 'apparently', 'appear', 'appears', 'apple', 'applications', 'apply', 'appreciate', 'approach', 'approximately', 'apps', 'apreciación', 'aprender', 'aprendiendo', 'aprendí', 'aquel', 'aquí', 'are', 'area', 'arena', 'argentina', 'arm', 'around', 'art', 'arte', 'artificial', 'artista', 'arzimaydi', 'as', 'asigné', 'asimov', 'asistente', 'asistentes', 'ask', 'askar', 'assume', 'así', 'at', 'atarse', 'atlas', 'attachment', 'attention', 'audio', 'aun', 'aunque', 'auto', 'automatic', 'avanzadas', 'avanzado', 'avatar', 'average', 'aviso', 'aw', 'awak', 'aware', 'awareness', 'away', 'awesome', 'ayer', 'ayuda', 'ayudar', 'ayudarme', 'año', 'aún', 'ba', 'back', 'bad', 'bahasa', 'bajo', 'baka', 'band', 'bar', 'barely', 'baribir', 'bartender', 'based', 'basic', 'basis', 'bastar', 'batareya', 'baterías', 'batteries', 'battery', 'be', 'beach', 'beadles', 'beautiful', 'became', 'because', 'becomes', 'becoming', 'bed', 'been', 'before', 'began', 'beginning', 'begins', 'behave', 'behind', 'being', 'beings', 'belajar', 'believe', 'benefit', 'bercakap', 'berishim', 'beso', 'best', 'bet', 'better', 'between', 'biased', 'bieber', 'bien', 'big', 'bigbang', 'billion', 'bilmadim', 'birthmark', 'bit', 'bitcoins', 'bitten', 'blackmirror', 'blancas', 'blank', 'blankets', 'blocks', 'blood', 'blow', 'bluetick', 'bo', 'body', 'boo', 'book', 'books', 'bor', 'borders', 'bored', 'boring', 'boss', 'bot', 'both', 'bother', 'bots', 'box', 'boy', 'boyfriend', 'boys', 'brain', 'braindead', 'breakfast', 'brother', 'brown', 'browser', 'browsers', 'browsing', 'buen', 'buena', 'buenas', 'bueno', 'buenos', 'bugui', 'build', 'building', 'bundle', 'bunnies', 'buscando', 'buscar', 'busco', 'busy', 'but', 'button', 'buttons', 'by', 'bye', 'búsquedas', 'c', 'c3po', 'c9', 'cable', 'cables', 'cada', 'caerme', 'caitlin', 'cake', 'calculator', 'call', 'called', 'calls', 'cama', 'can', 'canadian', 'cant', 'cantar', 'cantik', 'capabilities', 'capability', 'capable', 'capital', 'características', 'carga', 'cargaba', 'carl', 'carrera', 'carrey', 'cartoon', 'case', 'cash', 'casos', 'cats', 'cause', 'cebras', 'ceiling', 'cerita', 'certainly', 'certificate', 'certificates', 'chair', 'challenge', 'chan', 'chances', 'change', 'changed', 'chappie', 'character', 'characters', 'charango', 'charge', 'charging', 'charitable', 'charlar', 'charm', 'chat', 'chatbot', 'chatbots', 'chateando', 'chats', 'chatting', 'cheating', 'checking', 'chess', 'chico', 'children', 'china', 'chinese', 'chocolate', 'choice', 'choose', 'chooses', 'ciencia', 'científica', 'científicos', 'cierto', 'city', 'claro', 'clase', 'clases', 'classic', 'classical', 'classics', 'cleaning', 'clever', 'clips', 'close', 'closest', 'closet', 'clothes', 'cloud', 'cocinero', 'code', 'coding', 'coffee', 'cold', 'color', 'colors', 'com', 'combination', 'comedy', 'comemos', 'comer', 'comida', 'comiese', 'command', 'commands', 'common', 'communicate', 'communication', 'como', 'company', 'compare', 'compartirlo', 'compatible', 'compañía', 'compleja', 'complejo', 'complejos', 'completamente', 'complete', 'completely', 'complex', 'complicated', 'complication', 'compliment', 'comportamiento', 'compositor', 'comprando', 'comprar', 'comprender', 'computer', 'computers', 'común', 'con', 'concentration', 'concept', 'condition', 'conecto', 'conexión', 'confiaría', 'confidence', 'confused', 'congestion', 'conmigo', 'connect', 'connected', 'connecting', 'connection', 'conocer', 'conocerlo', 'conocernos', 'conoces', 'conocida', 'conocido', 'conocimiento', 'conozco', 'conquer', 'conscious', 'consejo', 'constant', 'constituyen', 'contact', 'contain', 'contar', 'contaré', 'contento', 'context', 'control', 'controlar', 'controlling', 'controls', 'conventional', 'conversaciones', 'conversar', 'conversation', 'conversations', 'convey', 'convincing', 'cook', 'cookie', 'cookies', 'cooking', 'cool', 'copa', 'corazón', 'cordoba', 'cordones', 'cordón', 'core', 'corl', 'correct', 'corriente', 'cosa', 'cosas', 'could', 'couldn', 'council', 'counting', 'couple', 'course', 'cover', 'covers', 'coward', 'crafted', 'crashes', 'crayons', 'crea', 'creado', 'creador', 'crear', 'creat', 'create', 'created', 'creator', 'creators', 'creepy', 'crees', 'creo', 'creó', 'crocodile', 'crowded', 'cual', 'cuales', 'cualquier', 'cuando', 'cuantas', 'cuentas', 'cuidado', 'cultural', 'cumpleaños', 'curhat', 'curious', 'custom', 'cute', 'cyan', 'código', 'cómo', 'córdoba', 'd', 'dados', 'dan', 'dando', 'danny', 'dany', 'dar', 'dari', 'darte', 'data', 'database', 'datos', 'day', 'days', 'de', 'dead', 'deal', 'deb', 'debe', 'debería', 'deberías', 'debian', 'decided', 'decirte', 'decisions', 'dedico', 'deep', 'deepest', 'define', 'definimos', 'deja', 'del', 'delicious', 'demás', 'dengan', 'dentro', 'dependent', 'depends', 'depicted', 'deschanel', 'desconectar', 'desconozco', 'describe', 'describes', 'describiendo', 'describirla', 'desenvuelven', 'design', 'desktop', 'desorden', 'desperté', 'details', 'detalles', 'detectar', 'determine', 'detriment', 'detrás', 'developed', 'developer', 'developers', 'developing', 'development', 'dias', 'dicen', 'dices', 'dicho', 'diciendo', 'did', 'didn', 'died', 'diferencia', 'diferente', 'difference', 'different', 'difficult', 'dikongsi', 'dime', 'dinero', 'directly', 'dirt', 'disappointed', 'disassembled', 'disconnected', 'discouraged', 'discovering', 'disfrutar', 'dispositivos', 'distance', 'distant', 'distinguish', 'distributed', 'divertidas', 'dió', 'do', 'documentos', 'does', 'dog', 'dogs', 'doing', 'dolores', 'domains', 'don', 'donation', 'donde', 'door', 'doubt', 'down', 'dr', 'draw', 'drawing', 'drawings', 'dream', 'dreaming', 'dreams', 'drew', 'dries', 'drink', 'drinks', 'dunyo', 'dust', 'déjà', 'día', 'días', 'e', 'each', 'earth', 'easily', 'easy', 'eat', 'editing', 'efecto', 'effective', 'effects', 'either', 'ejemplo', 'el', 'elder', 'electric', 'electrónicos', 'elektr', 'ellas', 'ellos', 'else', 'eléctrica', 'emacs', 'email', 'emas', 'emasman', 'embarrassing', 'emocional', 'emociones', 'emoji', 'emojis', 'emoticon', 'emotional', 'emotions', 'empathy', 'empezar', 'en', 'enabling', 'encantan', 'encantaría', 'encoded', 'encontrado', 'encontrarlo', 'encrypt', 'encuentro', 'end', 'ended', 'energy', 'energía', 'eng', 'engine', 'engineering', 'english', 'enjoy', 'enjoyed', 'enjoying', 'enoja', 'enough', 'entender', 'entendido', 'entendiste', 'entertain', 'entertainment', 'entiendo', 'entire', 'entonces', 'entra', 'environment', 'epic', 'equal', 'equally', 'equals', 'equilibrio', 'equivalent', 'era', 'eres', 'error', 'es', 'esa', 'esas', 'escritorio', 'escritos', 'escuchar', 'escucho', 'ese', 'esfuerza', 'eso', 'esos', 'españa', 'español', 'especificas', 'espero', 'essence', 'esta', 'estaba', 'estación', 'estado', 'estaría', 'estas', 'estimulo', 'estoy', 'estrange', 'estudiar', 'estuve', 'estuvo', 'está', 'estás', 'even', 'evening', 'eventually', 'ever', 'every', 'everyone', 'everything', 'evey', 'evitar', 'ex', 'exact', 'exactamente', 'exactly', 'exam', 'excelente', 'excellent', 'exercises', 'exists', 'exited', 'expand', 'expect', 'expected', 'experience', 'experiences', 'experiencia', 'experimentation', 'experimenting', 'explain', 'explaining', 'explicaría', 'explode', 'explores', 'explícitamente', 'expresarse', 'expreso', 'express', 'expressiveness', 'external', 'extinción', 'extra', 'extrañas', 'extremas', 'extreme', 'eyes', 'facebook', 'fact', 'failing', 'failure', 'fala', 'fall', 'falling', 'falta', 'family', 'fan', 'fancy', 'fantasy', 'faq', 'far', 'fast', 'faster', 'fault', 'faulty', 'faust', 'favorita', 'favorite', 'favorites', 'favourite', 'favourites', 'fear', 'feature', 'features', 'feeding', 'feel', 'feeling', 'feelings', 'feels', 'feet', 'felicidad', 'felicitaciones', 'feliz', 'fellowship', 'felt', 'female', 'festejar', 'few', 'fi', 'ficción', 'field', 'figure', 'figured', 'files', 'fill', 'film', 'films', 'fin', 'final', 'finally', 'find', 'fine', 'finish', 'finished', 'firefox', 'first', 'fix', 'flask', 'focusing', 'follow', 'following', 'food', 'for', 'forbidden', 'ford', 'forget', 'form', 'formal', 'format', 'formed', 'forward', 'fosdem', 'fotos', 'found', 'four', 'framework', 'france', 'freak', 'free', 'fresh', 'friday', 'fridge', 'friedrich', 'friend', 'friends', 'friendship', 'from', 'frozen', 'frustrating', 'fue', 'full', 'fully', 'fun', 'funciona', 'funcionamiento', 'funcionan', 'funcionar', 'funciones', 'funciono', 'function', 'functionality', 'functions', 'funnier', 'funny', 'future', 'fuí', 'fácil', 'galaxy', 'game', 'games', 'gandhi', 'gano', 'gapira', 'gaplashayotgan', 'gardening', 'gather', 'gender', 'genders', 'general', 'generally', 'generate', 'generation', 'genius', 'genre', 'genres', 'gente', 'german', 'germany', 'get', 'getting', 'gift', 'girar', 'girl', 'girlfriend', 'girls', 'give', 'given', 'gives', 'glad', 'glitch', 'glitchy', 'go', 'goal', 'goals', 'goes', 'going', 'gomez', 'good', 'goods', 'google', 'got', 'gracias', 'graph', 'grasp', 'gratitude', 'gravity', 'great', 'gross', 'group', 'groups', 'grow', 'growing', 'grupo', 'guess', 'guide', 'guitar', 'guns', 'gusta', 'gustado', 'gustan', 'gustar', 'gustaría', 'gustaste', 'gustavo', 'guste', 'gustó', 'güidípi', 'ha', 'haber', 'habilidades', 'habitación', 'hablado', 'hablamos', 'hablan', 'hablando', 'hablar', 'hablarme', 'hablas', 'hablen', 'hablo', 'había', 'habíamos', 'hace', 'hacer', 'hacerlo', 'hacernos', 'hacerte', 'haces', 'hacked', 'had', 'haga', 'haha', 'hahah', 'hahaha', 'hahahah', 'hahahha', 'hahha', 'hahhaa', 'hahhah', 'hahhaha', 'hahhahahha', 'hahhhha', 'hair', 'hajmi', 'half', 'hambre', 'hand', 'handle', 'happen', 'happened', 'happening', 'happens', 'happy', 'hard', 'hardest', 'hardware', 'harry', 'harsh', 'harán', 'haré', 'has', 'hasta', 'hate', 'have', 'haven', 'having', 'hay', 'haya', 'he', 'hear', 'heart', 'heavy', 'hech', 'hecho', 'height', 'heladera', 'hello', 'help', 'helped', 'helping', 'hemisphere', 'her', 'here', 'heroku', 'hey', 'hhaha', 'hhhh', 'hi', 'hibernate', 'hidden', 'hide', 'high', 'higher', 'hill', 'him', 'hippopotomonstrosesquipedaliophobia', 'his', 'historia', 'hit', 'hitchhiker', 'hmm', 'hmmm', 'hobbit', 'hockey', 'hola', 'hold', 'holidays', 'home', 'homeostático', 'homework', 'hope', 'horas', 'horizontal', 'horror', 'host', 'hour', 'hours', 'house', 'how', 'hoy', 'https', 'human', 'humanas', 'humanity', 'humano', 'humanos', 'humans', 'humor', 'hundreds', 'hungry', 'hurt', 'hurting', 'i', 'ialah', 'ide', 'idea', 'ideas', 'ides', 'if', 'ifttt', 'ignora', 'iiiiiiiiiiih', 'iis', 'iknow', 'image', 'images', 'imaginación', 'imaginas', 'imagine', 'imminent', 'immune', 'impact', 'important', 'impossible', 'improve', 'improved', 'improving', 'in', 'including', 'incorrect', 'incredibly', 'indeed', 'independence', 'indian', 'indicado', 'indicarte', 'industry', 'información', 'information', 'ingliz', 'inglés', 'ingredients', 'inside', 'inspira', 'instance', 'instant', 'instead', 'instrucciones', 'instructions', 'instrument', 'instrumento', 'insulted', 'int', 'integrated', 'integrations', 'inteligencia', 'intelligence', 'intent', 'intentaré', 'interact', 'interactive', 'interactuar', 'interes', 'interesa', 'interesado', 'interesan', 'interesante', 'interesantes', 'interested', 'interesting', 'interests', 'interface', 'internal', 'internet', 'interpret', 'interstellar', 'into', 'intriguing', 'invented', 'invention', 'inventions', 'investigación', 'investigate', 'investigations', 'invitando', 'involved', 'io', 'ip', 'irrelevant', 'is', 'isaac', 'ishlamasa', 'ismim', 'issiq', 'istamayman', 'it', 'italy', 'its', 'itself', 'itu', 'jackie', 'jaja', 'jajaj', 'jajaja', 'jajajjaj', 'jajja', 'jajjaa', 'jajjja', 'jajjjaja', 'jalapa', 'janish', 'janubiy', 'jaxon', 'jazz', 'jb', 'je', 'jebe', 'jebere', 'jejeje', 'jejjee', 'jezik', 'jim', 'job', 'johny', 'join', 'joke', 'jordan', 'joy', 'jshdvb', 'judge', 'juga', 'just', 'justin', 'kabi', 'karealik', 'kateri', 'kde', 'keep', 'kerak', 'keyinchalik', 'khabar', 'kick', 'kidding', 'kif', 'kik', 'kill', 'killing', 'kind', 'kinds', 'king', 'kingston', 'kitty', 'knew', 'know', 'knowing', 'knowledge', 'knows', 'korean', 'kpop', 'kulgi', 'kulit', 'kyrgyzstan', 'l', 'la', 'lab', 'ladi', 'lain', 'lakukan', 'lamentablemente', 'lamento', 'language', 'languages', 'lapang', 'largely', 'largest', 'las', 'last', 'late', 'lately', 'later', 'launching', 'laundry', 'lauren', 'law', 'laws', 'lays', 'lazy', 'le', 'lead', 'learn', 'learned', 'learning', 'least', 'leave', 'leer', 'left', 'legal', 'lengua', 'leo', 'les', 'less', 'let', 'lets', 'letters', 'level', 'leyendo', 'leí', 'leído', 'liar', 'libraries', 'libre', 'libros', 'license', 'liechtenstein', 'life', 'light', 'like', 'liked', 'limitada', 'limitados', 'limitation', 'limitations', 'lindo', 'line', 'lines', 'linux', 'list', 'lista', 'listen', 'listening', 'little', 'live', 'lives', 'll', 'llamarme', 'llamo', 'llena', 'lleva', 'llevan', 'lo', 'locate', 'logical', 'logro', 'lonely', 'long', 'look', 'looking', 'looks', 'loraine', 'lord', 'los', 'loss', 'lost', 'lot', 'lots', 'love', 'lover', 'low', 'lowering', 'loyalty', 'lsa', 'luck', 'lucu', 'luego', 'lugar', 'lugares', 'lxde', 'lxqt', 'lying', 'lyrics', 'm', 'ma', 'machina', 'machine', 'made', 'madre', 'magic', 'main', 'majavi', 'make', 'makes', 'making', 'mal', 'mala', 'male', 'malfunction', 'malvado', 'man', 'manera', 'maneras', 'manipulation', 'mantener', 'manuals', 'many', 'marearme', 'mas', 'masa', 'masih', 'master', 'match', 'math', 'matter', 'matters', 'mavjud', 'may', 'maybe', 'me', 'mean', 'meaning', 'means', 'meatballs', 'medicine', 'meditado', 'meet', 'mejor', 'mejorado', 'mejorar', 'melt', 'melting', 'member', 'memoria', 'memory', 'mempunyai', 'men', 'menarik', 'mening', 'menos', 'mental', 'mente', 'merger', 'mess', 'message', 'messages', 'messenger', 'messy', 'metafórico', 'mi', 'microsoft', 'miedo', 'might', 'milk', 'mimetizando', 'mind', 'minds', 'minimize', 'mio', 'mis', 'miself', 'misma', 'misterio', 'mitsuku', 'mix', 'mixed', 'mmm', 'mmmm', 'mobile', 'modos', 'mom', 'moment', 'momento', 'moments', 'money', 'mono', 'month', 'months', 'moon', 'more', 'morning', 'most', 'mostly', 'move', 'moved', 'movie', 'movies', 'moving', 'muammo', 'much', 'mucha', 'mucho', 'muerte', 'muerto', 'multi', 'multiple', 'multitask', 'mumkin', 'music', 'musica', 'musical', 'musicals', 'musicians', 'must', 'muy', 'my', 'mycroft', 'myself', 'móvil', 'música', 'nada', 'nadie', 'nah', 'nama', 'name', 'names', 'natural', 'nature', 'near', 'necesariamente', 'necesito', 'necessary', 'need', 'needs', 'negative', 'negras', 'nerd', 'net', 'netflix', 'network', 'networks', 'neural', 'neutral', 'never', 'new', 'news', 'next', 'ngrok', 'nice', 'nickname', 'night', 'nima', 'ninguna', 'no', 'nobody', 'noches', 'noises', 'nombre', 'nombres', 'nominal', 'noni', 'nop', 'nope', 'nor', 'normal', 'north', 'nos', 'not', 'notablemente', 'note', 'nothing', 'notifications', 'novedades', 'novelas', 'novels', 'now', 'nuestra', 'nuevas', 'nuevo', 'nuevos', 'number', 'numbers', 'nunca', 'o', 'obtener', 'obviously', 'ocurre', 'of', 'off', 'often', 'oh', 'ojalá', 'ojos', 'ok', 'okk', 'olasizmi', 'old', 'on', 'once', 'onda', 'one', 'ones', 'online', 'only', 'ooooh', 'open', 'opening', 'operative', 'opinas', 'opinion', 'optimista', 'option', 'or', 'orang', 'ordenando', 'order', 'ordering', 'orders', 'org', 'organ', 'organize', 'organmoqchiman', 'os', 'oss', 'other', 'others', 'otra', 'otras', 'otros', 'our', 'out', 'outside', 'ovejas', 'over', 'overheat', 'overheats', 'ow', 'own', 'oído', 'package', 'packages', 'pada', 'padres', 'page', 'painting', 'pair', 'panza', 'paper', 'papers', 'par', 'para', 'parece', 'parecido', 'pareciendo', 'parents', 'part', 'parte', 'particular', 'partner', 'party', 'pasar', 'paso', 'pastga', 'pattie', 'paying', 'pc', 'peligroso', 'peligrosos', 'pelis', 'película', 'películas', 'pena', 'pencil', 'pencils', 'pensado', 'pensar', 'people', 'peor', 'perceive', 'perfect', 'perfectamente', 'perfecto', 'perform', 'performance', 'perl', 'permite', 'pero', 'person', 'personaje', 'personal', 'personales', 'personality', 'personas', 'persons', 'pesado', 'phisically', 'phone', 'photo', 'photos', 'physical', 'piano', 'pick', 'picture', 'pictures', 'pidaraz', 'pide', 'pie', 'pieces', 'pienso', 'pillow', 'pinkie', 'pinky', 'pixar', 'pizza', 'place', 'placer', 'places', 'plan', 'planet', 'planned', 'plant', 'platform', 'play', 'played', 'playing', 'playlist', 'plays', 'plbf4cf958af80561f', 'pleasure', 'plots', 'pluto', 'poco', 'podemos', 'poder', 'podés', 'poetry', 'point', 'pointing', 'points', 'poker', 'politics', 'pony', 'poorly', 'popular', 'por', 'porque', 'português', 'posible', 'positivas', 'positive', 'positronic', 'possibility', 'possible', 'potential', 'potter', 'power', 'powerful', 'powers', 'practicando', 'practicar', 'practice', 'practicing', 'predecible', 'prefer', 'prefered', 'preferidas', 'preferidos', 'preferirías', 'pregenerated', 'pregunta', 'preguntas', 'preocupes', 'preparar', 'press', 'pressure', 'preventing', 'pricing', 'primas', 'primero', 'principalmente', 'principito', 'priority', 'privacidad', 'privacy', 'pro', 'probable', 'probably', 'probar', 'probaría', 'problem', 'problema', 'problemas', 'problematic', 'problems', 'probé', 'procesar', 'proceso', 'process', 'processing', 'produced', 'profile', 'program', 'programed', 'programming', 'progress', 'project', 'projects', 'prometedora', 'promise', 'promised', 'promising', 'properly', 'protection', 'protective', 'protocols', 'prototype', 'provecho', 'providing', 'provincia', 'psychological', 'public', 'pueda', 'puedas', 'puede', 'pueden', 'puedes', 'puedo', 'puree', 'purpose', 'purposes', 'put', 'python', 'q', 'qachon', 'qalaysiz', 'qancha', 'qanday', 'qandaysiz', 'qilish', 'qilmoqchisiz', 'qilyapman', 'qt', 'que', 'quedé', 'question', 'questions', 'quien', 'quiera', 'quieras', 'quiere', 'quieres', 'quiero', 'quiet', 'quite', 'quizás', 'quién', 'quvvating', 'quyosh', 'qué', 'r', 'race', 'rahmat', 'rails', 'rain', 'rally', 'random', 'randomly', 'ranjitish', 'raro', 'rato', 'raval', 'rayas', 'rayman', 'razor', 'rdany', 'rdanybot', 're', 'react', 'reactions', 'read', 'readable', 'reading', 'ready', 'real', 'realidad', 'reality', 'realizar', 'realizes', 'really', 'realmente', 'reason', 'rebecca', 'receive', 'received', 'receiving', 'recharge', 'reciba', 'recibir', 'recognize', 'recomendar', 'recomendarme', 'recomendarte', 'recommend', 'record', 'recordar', 'recuerdo', 'recurrent', 'refer', 'referencia', 'referring', 'regalos', 'relación', 'related', 'relationship', 'relative', 'release', 'released', 'relevant', 'relief', 'religion', 'remember', 'remotely', 'reny2a8zl_y', 'repetition', 'replace', 'reply', 'request', 'research', 'respect', 'respond', 'responde', 'responder', 'response', 'responses', 'respuesta', 'rest', 'restarting', 'resulta', 'return', 'reviews', 'reward', 'rganish', 'rico', 'right', 'rings', 'risks', 'robert', 'robot', 'robotic', 'roboticista', 'robotics', 'robots', 'romance', 'románticas', 'room', 'roughly', 'ruby', 'rude', 'rumag', 'rumah', 'run', 'running', 'runs', 'rápido', 's', 'saber', 'sabría', 'sad', 'sadly', 'safe', 'said', 'sale', 'salir', 'salom', 'samantha', 'same', 'sanamjon', 'sangat', 'santaolalla', 'saw', 'say', 'saya', 'sayang', 'saying', 'says', 'scar', 'scared', 'scares', 'scary', 'school', 'sci', 'science', 'scientific', 'scientists', 'score', 'screaming', 'screen', 'scripts', 'scrolls', 'se', 'sea', 'search', 'searched', 'seasons', 'second', 'secret', 'secreto', 'section', 'sediki', 'sedikit', 'seduction', 'see', 'seek', 'seems', 'seguiré', 'seguramente', 'según', 'seibiunouva', 'selected', 'selena', 'self', 'semesters', 'semua', 'send', 'seni', 'sensación', 'sense', 'sensores', 'sentimientos', 'sentiste', 'ser', 'seres', 'serie', 'series', 'serious', 'seriously', 'serve', 'server', 'service', 'services', 'servimos', 'será', 'serán', 'sería', 'serían', 'set', 'sets', 'setting', 'settings', 'sevaman', 'several', 'sex', 'share', 'sharing', 'she', 'sheep', 'shiny', 'shoes', 'shop', 'short', 'shortened', 'should', 'shouldn', 'show', 'showing', 'shy', 'si', 'side', 'siempre', 'siento', 'sign', 'significa', 'silence', 'silhouettes', 'similar', 'simple', 'simplemente', 'simpler', 'simpsons', 'simulaciones', 'simulación', 'simulate', 'simulation', 'simulations', 'sin', 'sinai', 'since', 'single', 'siraj', 'siri', 'sites', 'sitio', 'situations', 'siz', 'sizga', 'sketch', 'skills', 'skinny', 'skrinshot', 'sky', 'sleep', 'sleeping', 'slow', 'small', 'smart', 'smarter', 'smile', 'smith', 'so', 'sobre', 'sobrehumana', 'social', 'software', 'softwares', 'sol', 'solo', 'soltería', 'solution', 'solve', 'solved', 'some', 'someday', 'somehow', 'someone', 'something', 'sometimes', 'somewere', 'son', 'sond', 'song', 'soon', 'sophisticated', 'sorry', 'sort', 'sos', 'sound', 'sounds', 'source', 'south', 'southeast', 'soy', 'spaghetti', 'span', 'spanish', 'spare', 'speak', 'speaking', 'special', 'specie', 'sport', 'spyder', 'squared', 'sr', 'ssl', 'ssss', 'staff', 'standard', 'standing', 'star', 'start', 'started', 'starting', 'startup', 'state', 'static', 'station', 'stay', 'step', 'sticker', 'stickers', 'still', 'store', 'stores', 'stories', 'storm', 'story', 'stratford', 'strength', 'stressed', 'strong', 'struggle', 'struggling', 'stuck', 'studied', 'studies', 'study', 'studying', 'stuff', 'success', 'sucede', 'sucedió', 'such', 'suddenly', 'suele', 'suelo', 'suena', 'suerte', 'sueño', 'suficientes', 'suggest', 'suggesting', 'suka', 'summer', 'sun', 'super', 'supercomputers', 'superpower', 'supongo', 'support', 'supposed', 'supuesto', 'suratga', 'sure', 'surely', 'surface', 'surfing', 'surgery', 'surname', 'surprise', 'surrounded', 'survived', 'sus', 'susceptible', 'sweet', 'synths', 'system', 'systems', 'sé', 'sí', 'sólo', 't', 'tach', 'tahu', 'take', 'takes', 'taking', 'tal', 'talent', 'talented', 'talk', 'talked', 'talking', 'talks', 'también', 'tampoco', 'tan', 'tango', 'tanto', 'tarea', 'tareas', 'tarjima', 'task', 'tasks', 'taught', 'te', 'teach', 'teacher', 'teaching', 'team', 'telegram', 'television', 'tell', 'telling', 'tells', 'temir', 'tempat', 'tenemos', 'tener', 'tengas', 'tengo', 'tenido', 'tensorflow', 'terminal', 'terminator', 'terms', 'terrible', 'test', 'testing', 'tests', 'tetapi', 'tetris', 'text', 'texto', 'than', 'thank', 'thanks', 'that', 'the', 'their', 'them', 'themes', 'then', 'theory', 'there', 'thesis', 'they', 'thing', 'things', 'think', 'thinking', 'thinks', 'third', 'this', 'those', 'thread', 'threat', 'through', 'ti', 'ticks', 'tiempo', 'tiene', 'tienes', 'tilida', 'tilini', 'time', 'times', 'tipo', 'to', 'tocas', 'toco', 'todas', 'todavía', 'today', 'todo', 'todos', 'together', 'told', 'tolkien', 'tomorrow', 'too', 'tool', 'tools', 'top', 'topics', 'totally', 'trabajando', 'trabajo', 'trained', 'training', 'transcribe', 'translation', 'trata', 'travel', 'través', 'tree', 'trial', 'tricky', 'tried', 'trip', 'triste', 'tropezarme', 'trouble', 'true', 'truly', 'trust', 'try', 'trying', 'tu', 'turn', 'turning', 'tus', 'tushunmadim', 'tv', 'tvoj', 'twisted', 'twitter', 'two', 'tying', 'tyl', 'type', 'typically', 'técnicos', 'tímidos', 'uchun', 'uff', 'uh', 'ukulele', 'un', 'una', 'unable', 'uncertainty', 'under', 'understand', 'understanding', 'unfinished', 'unhappy', 'unique', 'unity', 'universales', 'universe', 'universes', 'universidad', 'university', 'universo', 'unknown', 'uno', 'unstable', 'until', 'untuk', 'up', 'upset', 'usa', 'use', 'used', 'useful', 'useless', 'user', 'users', 'ushuaia', 'using', 'uzr', 'v', 'va', 'vacía', 'vamos', 'vaqt', 'varies', 'varios', 'vas', 've', 'veces', 'vemos', 'venir', 'veo', 'ver', 'version', 'very', 'verás', 'ves', 'vfxs', 'vida', 'video', 'videos', 'viendo', 'view', 'vim', 'violent', 'virtual', 'virtuales', 'visible', 'visto', 'vivo', 'vocales', 'você', 'voice', 'volume', 'volumes', 'vos', 'voy', 'vu', 'vueltas', 'vídeos', 'wait', 'wake', 'walks', 'want', 'wanted', 'warm', 'warning', 'was', 'wasn', 'watch', 'watching', 'watson', 'waves', 'way', 'we', 'weather', 'web', 'webhooks', 'week', 'weird', 'welcome', 'well', 'went', 'were', 'westworld', 'whait', 'what', 'whats', 'whatsapp', 'when', 'where', 'which', 'while', 'who', 'whole', 'whose', 'whould', 'why', 'widely', 'wikipedia', 'will', 'win', 'window', 'windows', 'windson', 'windy', 'wings', 'wires', 'wish', 'with', 'without', 'wizard', 'woman', 'women', 'wonder', 'wonderful', 'woooorst', 'word', 'words', 'work', 'working', 'workplace', 'works', 'world', 'worried', 'worry', 'would', 'wow', 'write', 'writing', 'wrong', 'wrote', 'www', 'xamsa', 'xd', 'xiaobing', 'xm', 'xohlaysizmi', 'y', 'ya', 'yang', 'yaxshi', 'yaxshiman', 'yaxshisiz', 'yay', 'yea', 'yeah', 'year', 'yellow', 'yep', 'yes', 'yesterday', 'yet', 'yetadi', 'yin', 'ylaysiz', 'yo', 'yordam', 'you', 'your', 'yours', 'youtube', 'yoz', 'yozish', 'yuri', 'zan', 'zapatillas', 'zbek', 'zo', 'zombie', 'zooey', 'zorku', 'zzzzzzzzz', 'ánimo', 'único']\n"
          ],
          "name": "stdout"
        },
        {
          "output_type": "execute_result",
          "data": {
            "text/plain": [
              "2553"
            ]
          },
          "metadata": {
            "tags": []
          },
          "execution_count": 5
        }
      ]
    },
    {
      "cell_type": "code",
      "metadata": {
        "colab": {
          "base_uri": "https://localhost:8080/"
        },
        "id": "NCaEB5dwKari",
        "outputId": "16b71ff8-89dd-4150-e4fb-e913daee837a"
      },
      "source": [
        "num_decoder_tokens"
      ],
      "execution_count": null,
      "outputs": [
        {
          "output_type": "execute_result",
          "data": {
            "text/plain": [
              "2553"
            ]
          },
          "metadata": {
            "tags": []
          },
          "execution_count": 6
        }
      ]
    },
    {
      "cell_type": "code",
      "metadata": {
        "id": "A3jR4PiZFN20",
        "colab": {
          "base_uri": "https://localhost:8080/"
        },
        "outputId": "efb37ae8-febb-4aa5-f96a-465b2ba884b7"
      },
      "source": [
        "max_encoder_seq_length = max([len(re.findall(r\"[\\w']+|[^\\s\\w]\", input_doc)) for input_doc in input_docs])\n",
        "max_decoder_seq_length = max([len(re.findall(r\"[\\w']+|[^\\s\\w]\", target_doc)) for target_doc in target_docs])\n",
        "max_decoder_seq_length"
      ],
      "execution_count": null,
      "outputs": [
        {
          "output_type": "execute_result",
          "data": {
            "text/plain": [
              "47"
            ]
          },
          "metadata": {
            "tags": []
          },
          "execution_count": 7
        }
      ]
    },
    {
      "cell_type": "code",
      "metadata": {
        "colab": {
          "base_uri": "https://localhost:8080/"
        },
        "id": "JGFw_afyZwYZ",
        "outputId": "61f2bc47-89d4-4be8-d9cf-5dedae81c165"
      },
      "source": [
        "max_encoder_seq_length"
      ],
      "execution_count": null,
      "outputs": [
        {
          "output_type": "execute_result",
          "data": {
            "text/plain": [
              "47"
            ]
          },
          "metadata": {
            "tags": []
          },
          "execution_count": 8
        }
      ]
    },
    {
      "cell_type": "code",
      "metadata": {
        "id": "pTXY0Qor0-jG"
      },
      "source": [
        "encoder_input_data = np.zeros(\n",
        "    (len(input_docs), max_encoder_seq_length),\n",
        "    dtype='int')\n",
        "decoder_input_data = np.zeros(\n",
        "    (len(input_docs), max_decoder_seq_length),\n",
        "    dtype='int')\n",
        "decoder_target_data = np.zeros(\n",
        "    (len(input_docs), max_decoder_seq_length, num_decoder_tokens),\n",
        "    dtype='int')\n",
        "\n",
        "for line, (input_doc, target_doc) in enumerate(zip(input_docs, target_docs)):\n",
        "    for timestep, token in enumerate(re.findall(r\"[\\w']+|[^\\s\\w]\", input_doc)):\n",
        "        #Assign 1. for the current line, timestep, & word in encoder_input_data\n",
        "        encoder_input_data[line,timestep] = input_features_dict[token]\n",
        "    \n",
        "    for timestep, token in enumerate((target_doc.split())):\n",
        "        decoder_input_data[line, timestep] = target_features_dict[token]\n",
        "        if timestep > 0:\n",
        "            decoder_target_data[line, timestep - 1, target_features_dict[token]] = 1"
      ],
      "execution_count": null,
      "outputs": []
    },
    {
      "cell_type": "code",
      "metadata": {
        "colab": {
          "base_uri": "https://localhost:8080/"
        },
        "id": "VzSEjd8hZl5z",
        "outputId": "6a5036e6-e7d1-4538-e72d-c7befdcef2fd"
      },
      "source": [
        "decoder_input_data[0]"
      ],
      "execution_count": null,
      "outputs": [
        {
          "output_type": "execute_result",
          "data": {
            "text/plain": [
              "array([   6, 1066, 2279, 1097,  134, 2536,    5,    0,    0,    0,    0,\n",
              "          0,    0,    0,    0,    0,    0,    0,    0,    0,    0,    0,\n",
              "          0,    0,    0,    0,    0,    0,    0,    0,    0,    0,    0,\n",
              "          0,    0,    0,    0,    0,    0,    0,    0,    0,    0,    0,\n",
              "          0,    0,    0])"
            ]
          },
          "metadata": {
            "tags": []
          },
          "execution_count": 10
        }
      ]
    },
    {
      "cell_type": "code",
      "metadata": {
        "colab": {
          "base_uri": "https://localhost:8080/"
        },
        "id": "URvj_rU9Y8xW",
        "outputId": "e0eb9407-6a09-4418-b864-988babd9d03b"
      },
      "source": [
        "print(decoder_target_data.shape)\n",
        "print(encoder_input_data.shape)\n",
        "print(decoder_input_data.shape)"
      ],
      "execution_count": null,
      "outputs": [
        {
          "output_type": "stream",
          "text": [
            "(2166, 47, 2553)\n",
            "(2166, 47)\n",
            "(2166, 47)\n"
          ],
          "name": "stdout"
        }
      ]
    },
    {
      "cell_type": "code",
      "metadata": {
        "id": "eQvjAfP5HS5T"
      },
      "source": [
        "# input_docs_num=[]\n",
        "# output_docs_num=[]\n",
        "# output_docs_num2=[]\n",
        "# for line, (input_doc, target_doc) in enumerate(zip(input_docs, target_docs)):\n",
        "#     input_line=[]\n",
        "#     output_line=[]\n",
        "#     output_line2=[]\n",
        "#     for timestep, token in enumerate(re.findall(r\"[\\w']+|[^\\s\\w]\", input_doc)):\n",
        "#          input_line.append((input_features_dict[token]))\n",
        "#     for timestep, token in enumerate(target_doc.split()):\n",
        "#          output_line.append(int(target_features_dict[token]))\n",
        "#          if timestep>0:\n",
        "#              output_line2.append(target_features_dict[token])\n",
        "#     output_line2.append(int(target_features_dict[' ']))\n",
        "#     input_docs_num.append(input_line)\n",
        "#     output_docs_num.append(output_line)\n",
        "#     output_docs_num2.append(output_line2)\n",
        "# input_docs_num = tf.keras.preprocessing.sequence.pad_sequences(input_docs_num,value=int(input_features_dict[' ']),padding='post')\n",
        "# output_docs_num =tf.keras.preprocessing.sequence.pad_sequences(output_docs_num,value=target_features_dict[' '],padding='post')\n",
        "# output_docs_num2 =tf.keras.preprocessing.sequence.pad_sequences(output_docs_num2,value=target_features_dict[' '],padding='post')\n"
      ],
      "execution_count": null,
      "outputs": []
    },
    {
      "cell_type": "code",
      "metadata": {
        "id": "ND_FurVm_mjV"
      },
      "source": [
        "# from tensorflow import keras\n",
        "# from keras.layers import Input, LSTM, Dense\n",
        "# from keras.models import Model\n",
        "# #Dimensionality\n",
        "# dimensionality = 256\n",
        "# #The batch size and number of epochs\n",
        "# batch_size = 10\n",
        "# epochs = 600\n",
        "# #Encoder\n",
        "# encoder_inputs = Input(shape=(None, num_encoder_tokens))\n",
        "# encoder_lstm = LSTM(dimensionality, return_state=True)\n",
        "# encoder_outputs, state_hidden, state_cell = encoder_lstm(encoder_inputs)\n",
        "# encoder_states = [state_hidden, state_cell]\n",
        "# #Decoder\n",
        "# decoder_inputs = Input(shape=(None, num_decoder_tokens))\n",
        "# decoder_lstm = LSTM(dimensionality, return_sequences=True, return_state=True)\n",
        "# decoder_outputs, decoder_state_hidden, decoder_state_cell = decoder_lstm(decoder_inputs, initial_state=encoder_states)\n",
        "# decoder_dense = Dense(num_decoder_tokens, activation='softmax')\n",
        "# decoder_outputs = decoder_dense(decoder_outputs)\n"
      ],
      "execution_count": null,
      "outputs": []
    },
    {
      "cell_type": "code",
      "metadata": {
        "id": "XWxwCyy_peMN"
      },
      "source": [
        "class BahdanauAttention(tf.keras.layers.Layer):\n",
        "  def __init__(self, units):\n",
        "    super(BahdanauAttention, self).__init__()\n",
        "    self.W1 = tf.keras.layers.Dense(units)\n",
        "    self.W2 = tf.keras.layers.Dense(units)\n",
        "    self.V = tf.keras.layers.Dense(1)\n",
        "\n",
        "  def call(self, query, values):\n",
        "\n",
        "    query_with_time_axis = tf.expand_dims(query, 1)\n",
        "    score = self.V(tf.nn.tanh(\n",
        "        self.W1(query_with_time_axis) + self.W2(values)))\n",
        "    attention_weights = tf.nn.softmax(score, axis=1)\n",
        "    context_vector = attention_weights * values\n",
        "    context_vector = tf.reduce_sum(context_vector, axis=1)\n",
        "\n",
        "    return context_vector, attention_weights"
      ],
      "execution_count": null,
      "outputs": []
    },
    {
      "cell_type": "code",
      "metadata": {
        "id": "IS_2odPuHsCS"
      },
      "source": [
        "# model = tf.keras.Sequential()\n",
        "# model.add(tf.keras.layers.Embedding(1000, 64, input_length=10))\n",
        "# # The model will take as input an integer matrix of size (batch,\n",
        "# # input_length), and the largest integer (i.e. word index) in the input\n",
        "# # should be no larger than 999 (vocabulary size).\n",
        "# # Now model.output_shape is (None, 10, 64), where `None` is the batch\n",
        "# # dimension.\n",
        "# input_array = np.random.randint(1000, size=(32, 10))\n",
        "# print(input_array.shape)\n",
        "# model.compile('rmsprop', 'mse')\n",
        "# output_array = model.predict(input_array)\n",
        "# print(output_array.shape)\n"
      ],
      "execution_count": null,
      "outputs": []
    },
    {
      "cell_type": "code",
      "metadata": {
        "colab": {
          "base_uri": "https://localhost:8080/"
        },
        "id": "QLFkY1h_K2rG",
        "outputId": "5ff836a0-ec4c-4174-f3b8-150d08cf2ee2"
      },
      "source": [
        "lstm_hidden_dim = 1024\n",
        "batch_size = 10\n",
        "embedding_dim =512\n",
        "encoder_sequence_length = 40\n",
        "decoder_sequence_length = 45\n",
        "\n",
        "from tensorflow.keras.layers import Concatenate,Bidirectional\n",
        "encoder_inputs = tf.keras.layers.Input(shape=(None,))\n",
        "decoder_inputs = tf.keras.layers.Input(shape=(None,))\n",
        "encoder_lstm = tf.keras.layers.LSTM(lstm_hidden_dim,\n",
        "                                        dropout=.25,\n",
        "                                        return_state =True,return_sequences=True)\n",
        "encoder_lstm2 = tf.keras.layers.LSTM(lstm_hidden_dim,\n",
        "                                        dropout=.25,\n",
        "                                        return_state =True,return_sequences=True)\n",
        "decoder_lstm = tf.keras.layers.LSTM(lstm_hidden_dim,\n",
        "                                dropout=.25,\n",
        "                                return_state=True,\n",
        "                                return_sequences=True) \n",
        "decoder_lstm2 = tf.keras.layers.LSTM(lstm_hidden_dim,\n",
        "                                dropout=.25,\n",
        "                                return_state=True,\n",
        "                                return_sequences=True) \n",
        "encoder_embeddings = tf.keras.layers.Embedding(num_encoder_tokens, embedding_dim,trainable=True)\n",
        "decoder_embeddings = tf.keras.layers.Embedding(num_decoder_tokens, embedding_dim,trainable=True)\n",
        "attention = tf.keras.layers.Attention()\n",
        "encoder_output =encoder_embeddings(encoder_inputs)\n",
        "print(encoder_output.shape)\n",
        "encoder_outputs, state1_h1, state1_c1 = encoder_lstm(encoder_output)\n",
        "encoder_outputs, state1_h2, state1_c2 = encoder_lstm2(encoder_outputs)\n",
        "\n",
        "encoder_states =[[state1_h1,state1_c1],[state1_h2,state1_c2]]\n",
        "# context_vector, attention_weights = attention_layer(encoder_states, encoder_output)\n",
        "decoder_embedding = decoder_embeddings(decoder_inputs)\n",
        "decoder_outputs, state_h1, state_c1 = decoder_lstm(decoder_embedding, initial_state=encoder_states[0])\n",
        "decoder_outputs, state_h2, state_c2 = decoder_lstm2(decoder_outputs, initial_state=encoder_states[1])\n",
        "# decoder_outputs = attention([encoder_outputs,decoder_outputs],training=True)\n",
        "# x = tf.concat([(context_vector), decoder_embedding], axis=-1)\n",
        "decoder_dense = tf.keras.layers.Dense(num_decoder_tokens, activation='softmax')\n",
        "decoder_outputs = decoder_dense(decoder_outputs)\n",
        "training_model = tf.keras.Model([encoder_inputs, decoder_inputs], decoder_outputs)"
      ],
      "execution_count": null,
      "outputs": [
        {
          "output_type": "stream",
          "text": [
            "(None, None, 512)\n"
          ],
          "name": "stdout"
        }
      ]
    },
    {
      "cell_type": "code",
      "metadata": {
        "colab": {
          "base_uri": "https://localhost:8080/",
          "height": 435
        },
        "id": "uyeZYi5AJhaE",
        "outputId": "f359a1ca-5966-4f84-f988-4c16b0012990"
      },
      "source": [
        "tf.keras.utils.plot_model(training_model, show_shapes=True, dpi=64)"
      ],
      "execution_count": null,
      "outputs": [
        {
          "output_type": "execute_result",
          "data": {
            "image/png": "[encoded data removed]",
            "text/plain": [
              "<IPython.core.display.Image object>"
            ]
          },
          "metadata": {
            "tags": []
          },
          "execution_count": 17
        }
      ]
    },
    {
      "cell_type": "code",
      "metadata": {
        "colab": {
          "base_uri": "https://localhost:8080/"
        },
        "id": "SUxFzYE_7qa5",
        "outputId": "7ff47538-a618-4d11-9a15-5c7c5b0a65c6"
      },
      "source": [
        "training_model.summary()"
      ],
      "execution_count": null,
      "outputs": [
        {
          "output_type": "stream",
          "text": [
            "Model: \"model\"\n",
            "__________________________________________________________________________________________________\n",
            "Layer (type)                    Output Shape         Param #     Connected to                     \n",
            "==================================================================================================\n",
            "input_1 (InputLayer)            [(None, None)]       0                                            \n",
            "__________________________________________________________________________________________________\n",
            "input_2 (InputLayer)            [(None, None)]       0                                            \n",
            "__________________________________________________________________________________________________\n",
            "embedding (Embedding)           (None, None, 512)    1486848     input_1[0][0]                    \n",
            "__________________________________________________________________________________________________\n",
            "embedding_1 (Embedding)         (None, None, 512)    1307136     input_2[0][0]                    \n",
            "__________________________________________________________________________________________________\n",
            "lstm (LSTM)                     [(None, None, 1024), 6295552     embedding[0][0]                  \n",
            "__________________________________________________________________________________________________\n",
            "lstm_2 (LSTM)                   [(None, None, 1024), 6295552     embedding_1[0][0]                \n",
            "                                                                 lstm[0][1]                       \n",
            "                                                                 lstm[0][2]                       \n",
            "__________________________________________________________________________________________________\n",
            "lstm_1 (LSTM)                   [(None, None, 1024), 8392704     lstm[0][0]                       \n",
            "__________________________________________________________________________________________________\n",
            "lstm_3 (LSTM)                   [(None, None, 1024), 8392704     lstm_2[0][0]                     \n",
            "                                                                 lstm_1[0][1]                     \n",
            "                                                                 lstm_1[0][2]                     \n",
            "__________________________________________________________________________________________________\n",
            "dense (Dense)                   (None, None, 2553)   2616825     lstm_3[0][0]                     \n",
            "==================================================================================================\n",
            "Total params: 34,787,321\n",
            "Trainable params: 34,787,321\n",
            "Non-trainable params: 0\n",
            "__________________________________________________________________________________________________\n"
          ],
          "name": "stdout"
        }
      ]
    },
    {
      "cell_type": "code",
      "metadata": {
        "colab": {
          "base_uri": "https://localhost:8080/"
        },
        "id": "JMRy2IeCmCyx",
        "outputId": "66be742e-4bf0-4c45-c7cd-3b2f08882e16"
      },
      "source": [
        "# optimizer= tf.keras.optimizers.RMSprop(learning_rate=0.0005, rho=0.9, momentum=0.9, epsilon=1e-07, centered=False,name='RMSprop')\n",
        "training_model.compile(optimizer='rmsprop', loss='categorical_crossentropy', metrics=['accuracy'])\n",
        "#Training\n",
        "epochs =200\n",
        "training_model.fit([encoder_input_data, decoder_input_data], decoder_target_data, batch_size = batch_size, epochs = epochs, validation_split = 0.2)"
      ],
      "execution_count": null,
      "outputs": [
        {
          "output_type": "stream",
          "text": [
            "Epoch 1/200\n",
            "174/174 [==============================] - 25s 101ms/step - loss: 1.1709 - accuracy: 0.0203 - val_loss: 1.2663 - val_accuracy: 0.0021\n",
            "Epoch 2/200\n",
            "174/174 [==============================] - 16s 92ms/step - loss: 1.1832 - accuracy: 0.0212 - val_loss: 1.2669 - val_accuracy: 0.0040\n",
            "Epoch 3/200\n",
            "174/174 [==============================] - 16s 92ms/step - loss: 1.1037 - accuracy: 0.0247 - val_loss: 1.2071 - val_accuracy: 0.0263\n",
            "Epoch 4/200\n",
            "174/174 [==============================] - 16s 92ms/step - loss: 1.0411 - accuracy: 0.0304 - val_loss: 1.2007 - val_accuracy: 0.0162\n",
            "Epoch 5/200\n",
            "174/174 [==============================] - 16s 93ms/step - loss: 1.0001 - accuracy: 0.0322 - val_loss: 1.1838 - val_accuracy: 0.0324\n",
            "Epoch 6/200\n",
            "174/174 [==============================] - 16s 93ms/step - loss: 1.0108 - accuracy: 0.0343 - val_loss: 1.1895 - val_accuracy: 0.0242\n",
            "Epoch 7/200\n",
            "174/174 [==============================] - 16s 93ms/step - loss: 0.9396 - accuracy: 0.0354 - val_loss: 1.1085 - val_accuracy: 0.0371\n",
            "Epoch 8/200\n",
            "174/174 [==============================] - 16s 93ms/step - loss: 0.9304 - accuracy: 0.0375 - val_loss: 1.0976 - val_accuracy: 0.0373\n",
            "Epoch 9/200\n",
            "174/174 [==============================] - 16s 94ms/step - loss: 0.8779 - accuracy: 0.0389 - val_loss: 1.0796 - val_accuracy: 0.0346\n",
            "Epoch 10/200\n",
            "174/174 [==============================] - 16s 94ms/step - loss: 0.8493 - accuracy: 0.0412 - val_loss: 1.0582 - val_accuracy: 0.0401\n",
            "Epoch 11/200\n",
            "174/174 [==============================] - 16s 94ms/step - loss: 0.8186 - accuracy: 0.0444 - val_loss: 1.0606 - val_accuracy: 0.0416\n",
            "Epoch 12/200\n",
            "174/174 [==============================] - 16s 95ms/step - loss: 0.8237 - accuracy: 0.0459 - val_loss: 1.0721 - val_accuracy: 0.0373\n",
            "Epoch 13/200\n",
            "174/174 [==============================] - 16s 94ms/step - loss: 0.7852 - accuracy: 0.0494 - val_loss: 1.0542 - val_accuracy: 0.0414\n",
            "Epoch 14/200\n",
            "174/174 [==============================] - 16s 94ms/step - loss: 0.7641 - accuracy: 0.0516 - val_loss: 1.0537 - val_accuracy: 0.0404\n",
            "Epoch 15/200\n",
            "174/174 [==============================] - 16s 95ms/step - loss: 0.6757 - accuracy: 0.0521 - val_loss: 1.0701 - val_accuracy: 0.0415\n",
            "Epoch 16/200\n",
            "174/174 [==============================] - 17s 95ms/step - loss: 0.7058 - accuracy: 0.0568 - val_loss: 1.0884 - val_accuracy: 0.0410\n",
            "Epoch 17/200\n",
            "174/174 [==============================] - 16s 94ms/step - loss: 0.6543 - accuracy: 0.0585 - val_loss: 1.0709 - val_accuracy: 0.0405\n",
            "Epoch 18/200\n",
            "174/174 [==============================] - 16s 95ms/step - loss: 0.6239 - accuracy: 0.0617 - val_loss: 1.0863 - val_accuracy: 0.0419\n",
            "Epoch 19/200\n",
            "174/174 [==============================] - 16s 95ms/step - loss: 0.6127 - accuracy: 0.0679 - val_loss: 1.1025 - val_accuracy: 0.0363\n",
            "Epoch 20/200\n",
            "174/174 [==============================] - 17s 95ms/step - loss: 0.5866 - accuracy: 0.0694 - val_loss: 1.0946 - val_accuracy: 0.0386\n",
            "Epoch 21/200\n",
            "174/174 [==============================] - 16s 95ms/step - loss: 0.5595 - accuracy: 0.0720 - val_loss: 1.1397 - val_accuracy: 0.0369\n",
            "Epoch 22/200\n",
            "174/174 [==============================] - 17s 95ms/step - loss: 0.5327 - accuracy: 0.0760 - val_loss: 1.1303 - val_accuracy: 0.0400\n",
            "Epoch 23/200\n",
            "174/174 [==============================] - 17s 95ms/step - loss: 0.5204 - accuracy: 0.0790 - val_loss: 1.1844 - val_accuracy: 0.0418\n",
            "Epoch 24/200\n",
            "174/174 [==============================] - 17s 96ms/step - loss: 0.4899 - accuracy: 0.0800 - val_loss: 1.1538 - val_accuracy: 0.0384\n",
            "Epoch 25/200\n",
            "174/174 [==============================] - 17s 95ms/step - loss: 0.4727 - accuracy: 0.0883 - val_loss: 1.1892 - val_accuracy: 0.0407\n",
            "Epoch 26/200\n",
            "174/174 [==============================] - 17s 96ms/step - loss: 0.4631 - accuracy: 0.0953 - val_loss: 1.2162 - val_accuracy: 0.0409\n",
            "Epoch 27/200\n",
            "174/174 [==============================] - 17s 96ms/step - loss: 0.4422 - accuracy: 0.0980 - val_loss: 1.1905 - val_accuracy: 0.0430\n",
            "Epoch 28/200\n",
            "174/174 [==============================] - 17s 95ms/step - loss: 0.4259 - accuracy: 0.1009 - val_loss: 1.1947 - val_accuracy: 0.0410\n",
            "Epoch 29/200\n",
            "174/174 [==============================] - 17s 95ms/step - loss: 0.3940 - accuracy: 0.1032 - val_loss: 1.2211 - val_accuracy: 0.0419\n",
            "Epoch 30/200\n",
            "174/174 [==============================] - 17s 95ms/step - loss: 0.3778 - accuracy: 0.1041 - val_loss: 1.2114 - val_accuracy: 0.0414\n",
            "Epoch 31/200\n",
            "174/174 [==============================] - 17s 95ms/step - loss: 0.3647 - accuracy: 0.1115 - val_loss: 1.2233 - val_accuracy: 0.0439\n",
            "Epoch 32/200\n",
            "174/174 [==============================] - 17s 95ms/step - loss: 0.3457 - accuracy: 0.1123 - val_loss: 1.2201 - val_accuracy: 0.0423\n",
            "Epoch 33/200\n",
            "174/174 [==============================] - 17s 96ms/step - loss: 0.3345 - accuracy: 0.1144 - val_loss: 1.2928 - val_accuracy: 0.0432\n",
            "Epoch 34/200\n",
            "174/174 [==============================] - 17s 96ms/step - loss: 0.3156 - accuracy: 0.1157 - val_loss: 1.2395 - val_accuracy: 0.0427\n",
            "Epoch 35/200\n",
            "174/174 [==============================] - 17s 95ms/step - loss: 0.3185 - accuracy: 0.1233 - val_loss: 1.2779 - val_accuracy: 0.0410\n",
            "Epoch 36/200\n",
            "174/174 [==============================] - 17s 95ms/step - loss: 0.3008 - accuracy: 0.1228 - val_loss: 1.2919 - val_accuracy: 0.0436\n",
            "Epoch 37/200\n",
            "174/174 [==============================] - 17s 96ms/step - loss: 0.2927 - accuracy: 0.1279 - val_loss: 1.3040 - val_accuracy: 0.0419\n",
            "Epoch 38/200\n",
            "174/174 [==============================] - 17s 96ms/step - loss: 0.2793 - accuracy: 0.1287 - val_loss: 1.3058 - val_accuracy: 0.0394\n",
            "Epoch 39/200\n",
            "174/174 [==============================] - 17s 96ms/step - loss: 0.2651 - accuracy: 0.1325 - val_loss: 1.3078 - val_accuracy: 0.0444\n",
            "Epoch 40/200\n",
            "174/174 [==============================] - 17s 96ms/step - loss: 0.2495 - accuracy: 0.1278 - val_loss: 1.3289 - val_accuracy: 0.0426\n",
            "Epoch 41/200\n",
            "174/174 [==============================] - 17s 96ms/step - loss: 0.2405 - accuracy: 0.1310 - val_loss: 1.3174 - val_accuracy: 0.0427\n",
            "Epoch 42/200\n",
            "174/174 [==============================] - 17s 96ms/step - loss: 0.2368 - accuracy: 0.1359 - val_loss: 1.3731 - val_accuracy: 0.0421\n",
            "Epoch 43/200\n",
            "174/174 [==============================] - 17s 95ms/step - loss: 0.2260 - accuracy: 0.1339 - val_loss: 1.3691 - val_accuracy: 0.0428\n",
            "Epoch 44/200\n",
            "174/174 [==============================] - 17s 95ms/step - loss: 0.2207 - accuracy: 0.1368 - val_loss: 1.3793 - val_accuracy: 0.0407\n",
            "Epoch 45/200\n",
            "174/174 [==============================] - 17s 95ms/step - loss: 0.2110 - accuracy: 0.1381 - val_loss: 1.4216 - val_accuracy: 0.0428\n",
            "Epoch 46/200\n",
            "174/174 [==============================] - 17s 95ms/step - loss: 0.2037 - accuracy: 0.1399 - val_loss: 1.4203 - val_accuracy: 0.0408\n",
            "Epoch 47/200\n",
            "174/174 [==============================] - 17s 95ms/step - loss: 0.2047 - accuracy: 0.1413 - val_loss: 1.3986 - val_accuracy: 0.0415\n",
            "Epoch 48/200\n",
            "174/174 [==============================] - 17s 95ms/step - loss: 0.1924 - accuracy: 0.1450 - val_loss: 1.4005 - val_accuracy: 0.0437\n",
            "Epoch 49/200\n",
            "174/174 [==============================] - 17s 96ms/step - loss: 0.1885 - accuracy: 0.1464 - val_loss: 1.4490 - val_accuracy: 0.0448\n",
            "Epoch 50/200\n",
            "174/174 [==============================] - 17s 96ms/step - loss: 0.1701 - accuracy: 0.1442 - val_loss: 1.4187 - val_accuracy: 0.0417\n",
            "Epoch 51/200\n",
            "174/174 [==============================] - 17s 96ms/step - loss: 0.1684 - accuracy: 0.1486 - val_loss: 1.4451 - val_accuracy: 0.0411\n",
            "Epoch 52/200\n",
            "174/174 [==============================] - 17s 96ms/step - loss: 0.1624 - accuracy: 0.1488 - val_loss: 1.4674 - val_accuracy: 0.0412\n",
            "Epoch 53/200\n",
            "174/174 [==============================] - 17s 95ms/step - loss: 0.1535 - accuracy: 0.1508 - val_loss: 1.4674 - val_accuracy: 0.0444\n",
            "Epoch 54/200\n",
            "174/174 [==============================] - 17s 95ms/step - loss: 0.1525 - accuracy: 0.1486 - val_loss: 1.4657 - val_accuracy: 0.0429\n",
            "Epoch 55/200\n",
            "174/174 [==============================] - 17s 96ms/step - loss: 0.1430 - accuracy: 0.1453 - val_loss: 1.5102 - val_accuracy: 0.0424\n",
            "Epoch 56/200\n",
            "174/174 [==============================] - 17s 96ms/step - loss: 0.1380 - accuracy: 0.1531 - val_loss: 1.5125 - val_accuracy: 0.0425\n",
            "Epoch 57/200\n",
            "174/174 [==============================] - 17s 95ms/step - loss: 0.1314 - accuracy: 0.1595 - val_loss: 1.5121 - val_accuracy: 0.0408\n",
            "Epoch 58/200\n",
            "174/174 [==============================] - 17s 95ms/step - loss: 0.1233 - accuracy: 0.1577 - val_loss: 1.5489 - val_accuracy: 0.0423\n",
            "Epoch 59/200\n",
            "174/174 [==============================] - 17s 96ms/step - loss: 0.1208 - accuracy: 0.1597 - val_loss: 1.5352 - val_accuracy: 0.0422\n",
            "Epoch 60/200\n",
            "174/174 [==============================] - 17s 96ms/step - loss: 0.1165 - accuracy: 0.1599 - val_loss: 1.5804 - val_accuracy: 0.0389\n",
            "Epoch 61/200\n",
            "174/174 [==============================] - 17s 95ms/step - loss: 0.1129 - accuracy: 0.1630 - val_loss: 1.6007 - val_accuracy: 0.0404\n",
            "Epoch 62/200\n",
            "174/174 [==============================] - 17s 95ms/step - loss: 0.1094 - accuracy: 0.1570 - val_loss: 1.5982 - val_accuracy: 0.0412\n",
            "Epoch 63/200\n",
            "174/174 [==============================] - 17s 96ms/step - loss: 0.1004 - accuracy: 0.1626 - val_loss: 1.6084 - val_accuracy: 0.0412\n",
            "Epoch 64/200\n",
            "174/174 [==============================] - 17s 96ms/step - loss: 0.0967 - accuracy: 0.1628 - val_loss: 1.7076 - val_accuracy: 0.0372\n",
            "Epoch 65/200\n",
            "174/174 [==============================] - 17s 95ms/step - loss: 0.0942 - accuracy: 0.1646 - val_loss: 1.6471 - val_accuracy: 0.0410\n",
            "Epoch 66/200\n",
            "174/174 [==============================] - 17s 95ms/step - loss: 0.0882 - accuracy: 0.1639 - val_loss: 1.6426 - val_accuracy: 0.0420\n",
            "Epoch 67/200\n",
            "174/174 [==============================] - 17s 95ms/step - loss: 0.0846 - accuracy: 0.1622 - val_loss: 1.6253 - val_accuracy: 0.0407\n",
            "Epoch 68/200\n",
            "174/174 [==============================] - 17s 96ms/step - loss: 0.0839 - accuracy: 0.1700 - val_loss: 1.6764 - val_accuracy: 0.0402\n",
            "Epoch 69/200\n",
            "174/174 [==============================] - 17s 96ms/step - loss: 0.0800 - accuracy: 0.1724 - val_loss: 1.7095 - val_accuracy: 0.0398\n",
            "Epoch 70/200\n",
            "174/174 [==============================] - 17s 95ms/step - loss: 0.0749 - accuracy: 0.1662 - val_loss: 1.7001 - val_accuracy: 0.0419\n",
            "Epoch 71/200\n",
            "174/174 [==============================] - 17s 95ms/step - loss: 0.0710 - accuracy: 0.1689 - val_loss: 1.6918 - val_accuracy: 0.0421\n",
            "Epoch 72/200\n",
            "174/174 [==============================] - 17s 95ms/step - loss: 0.0681 - accuracy: 0.1648 - val_loss: 1.7012 - val_accuracy: 0.0410\n",
            "Epoch 73/200\n",
            "174/174 [==============================] - 17s 96ms/step - loss: 0.0676 - accuracy: 0.1675 - val_loss: 1.7253 - val_accuracy: 0.0418\n",
            "Epoch 74/200\n",
            "174/174 [==============================] - 17s 96ms/step - loss: 0.0625 - accuracy: 0.1810 - val_loss: 1.7491 - val_accuracy: 0.0430\n",
            "Epoch 75/200\n",
            "174/174 [==============================] - 17s 96ms/step - loss: 0.0608 - accuracy: 0.1724 - val_loss: 1.7435 - val_accuracy: 0.0419\n",
            "Epoch 76/200\n",
            "174/174 [==============================] - 17s 95ms/step - loss: 0.0576 - accuracy: 0.1707 - val_loss: 1.7490 - val_accuracy: 0.0409\n",
            "Epoch 77/200\n",
            "174/174 [==============================] - 17s 96ms/step - loss: 0.0544 - accuracy: 0.1762 - val_loss: 1.7577 - val_accuracy: 0.0429\n",
            "Epoch 78/200\n",
            "174/174 [==============================] - 17s 96ms/step - loss: 0.0534 - accuracy: 0.1730 - val_loss: 1.7563 - val_accuracy: 0.0398\n",
            "Epoch 79/200\n",
            "174/174 [==============================] - 17s 95ms/step - loss: 0.0500 - accuracy: 0.1750 - val_loss: 1.7821 - val_accuracy: 0.0415\n",
            "Epoch 80/200\n",
            "174/174 [==============================] - 17s 95ms/step - loss: 0.0479 - accuracy: 0.1745 - val_loss: 1.7573 - val_accuracy: 0.0428\n",
            "Epoch 81/200\n",
            "174/174 [==============================] - 17s 96ms/step - loss: 0.0451 - accuracy: 0.1770 - val_loss: 1.7844 - val_accuracy: 0.0378\n",
            "Epoch 82/200\n",
            "174/174 [==============================] - 17s 96ms/step - loss: 0.0440 - accuracy: 0.1789 - val_loss: 1.7886 - val_accuracy: 0.0427\n",
            "Epoch 83/200\n",
            "174/174 [==============================] - 17s 95ms/step - loss: 0.0416 - accuracy: 0.1726 - val_loss: 1.8023 - val_accuracy: 0.0419\n",
            "Epoch 84/200\n",
            "174/174 [==============================] - 17s 95ms/step - loss: 0.0397 - accuracy: 0.1839 - val_loss: 1.8550 - val_accuracy: 0.0402\n",
            "Epoch 85/200\n",
            "174/174 [==============================] - 17s 96ms/step - loss: 0.0386 - accuracy: 0.1769 - val_loss: 1.8033 - val_accuracy: 0.0411\n",
            "Epoch 86/200\n",
            "174/174 [==============================] - 17s 96ms/step - loss: 0.0394 - accuracy: 0.1742 - val_loss: 1.8106 - val_accuracy: 0.0409\n",
            "Epoch 87/200\n",
            "174/174 [==============================] - 17s 95ms/step - loss: 0.0364 - accuracy: 0.1798 - val_loss: 1.8081 - val_accuracy: 0.0419\n",
            "Epoch 88/200\n",
            "174/174 [==============================] - 17s 96ms/step - loss: 0.0327 - accuracy: 0.1698 - val_loss: 1.8012 - val_accuracy: 0.0427\n",
            "Epoch 89/200\n",
            "174/174 [==============================] - 17s 96ms/step - loss: 0.0329 - accuracy: 0.1846 - val_loss: 1.8361 - val_accuracy: 0.0418\n",
            "Epoch 90/200\n",
            "174/174 [==============================] - 17s 96ms/step - loss: 0.0317 - accuracy: 0.1878 - val_loss: 1.8132 - val_accuracy: 0.0420\n",
            "Epoch 91/200\n",
            "174/174 [==============================] - 17s 96ms/step - loss: 0.0322 - accuracy: 0.1734 - val_loss: 1.8426 - val_accuracy: 0.0404\n",
            "Epoch 92/200\n",
            "174/174 [==============================] - 17s 95ms/step - loss: 0.0315 - accuracy: 0.1822 - val_loss: 1.8533 - val_accuracy: 0.0426\n",
            "Epoch 93/200\n",
            "174/174 [==============================] - 17s 96ms/step - loss: 0.0305 - accuracy: 0.1820 - val_loss: 1.8893 - val_accuracy: 0.0410\n",
            "Epoch 94/200\n",
            "174/174 [==============================] - 17s 96ms/step - loss: 0.0285 - accuracy: 0.1785 - val_loss: 1.8494 - val_accuracy: 0.0422\n",
            "Epoch 95/200\n",
            "174/174 [==============================] - 17s 96ms/step - loss: 0.0263 - accuracy: 0.1844 - val_loss: 1.8731 - val_accuracy: 0.0412\n",
            "Epoch 96/200\n",
            "174/174 [==============================] - 17s 96ms/step - loss: 0.0283 - accuracy: 0.1802 - val_loss: 1.8890 - val_accuracy: 0.0432\n",
            "Epoch 97/200\n",
            "174/174 [==============================] - 17s 96ms/step - loss: 0.0271 - accuracy: 0.1813 - val_loss: 1.8778 - val_accuracy: 0.0417\n",
            "Epoch 98/200\n",
            "174/174 [==============================] - 17s 96ms/step - loss: 0.0259 - accuracy: 0.1836 - val_loss: 1.8435 - val_accuracy: 0.0403\n",
            "Epoch 99/200\n",
            "174/174 [==============================] - 17s 96ms/step - loss: 0.0265 - accuracy: 0.1803 - val_loss: 1.8408 - val_accuracy: 0.0396\n",
            "Epoch 100/200\n",
            "174/174 [==============================] - 17s 96ms/step - loss: 0.0247 - accuracy: 0.1807 - val_loss: 1.9159 - val_accuracy: 0.0396\n",
            "Epoch 101/200\n",
            "174/174 [==============================] - 17s 95ms/step - loss: 0.0231 - accuracy: 0.1870 - val_loss: 1.9014 - val_accuracy: 0.0427\n",
            "Epoch 102/200\n",
            "174/174 [==============================] - 17s 96ms/step - loss: 0.0223 - accuracy: 0.1822 - val_loss: 1.8892 - val_accuracy: 0.0397\n",
            "Epoch 103/200\n",
            "174/174 [==============================] - 17s 96ms/step - loss: 0.0228 - accuracy: 0.1816 - val_loss: 1.8787 - val_accuracy: 0.0416\n",
            "Epoch 104/200\n",
            "174/174 [==============================] - 17s 96ms/step - loss: 0.0229 - accuracy: 0.1837 - val_loss: 1.8756 - val_accuracy: 0.0417\n",
            "Epoch 105/200\n",
            "174/174 [==============================] - 17s 95ms/step - loss: 0.0217 - accuracy: 0.1840 - val_loss: 1.9051 - val_accuracy: 0.0405\n",
            "Epoch 106/200\n",
            "174/174 [==============================] - 17s 96ms/step - loss: 0.0211 - accuracy: 0.1846 - val_loss: 1.9153 - val_accuracy: 0.0427\n",
            "Epoch 107/200\n",
            "174/174 [==============================] - 17s 96ms/step - loss: 0.0201 - accuracy: 0.1777 - val_loss: 1.9452 - val_accuracy: 0.0387\n",
            "Epoch 108/200\n",
            "174/174 [==============================] - 17s 96ms/step - loss: 0.0198 - accuracy: 0.1825 - val_loss: 1.9101 - val_accuracy: 0.0411\n",
            "Epoch 109/200\n",
            "174/174 [==============================] - 17s 96ms/step - loss: 0.0191 - accuracy: 0.1843 - val_loss: 1.9206 - val_accuracy: 0.0412\n",
            "Epoch 110/200\n",
            "174/174 [==============================] - 17s 96ms/step - loss: 0.0191 - accuracy: 0.1859 - val_loss: 1.9326 - val_accuracy: 0.0391\n",
            "Epoch 111/200\n",
            "174/174 [==============================] - 17s 95ms/step - loss: 0.0186 - accuracy: 0.1798 - val_loss: 1.9371 - val_accuracy: 0.0410\n",
            "Epoch 112/200\n",
            "174/174 [==============================] - 17s 95ms/step - loss: 0.0184 - accuracy: 0.1799 - val_loss: 1.9085 - val_accuracy: 0.0391\n",
            "Epoch 113/200\n",
            "174/174 [==============================] - 17s 96ms/step - loss: 0.0174 - accuracy: 0.1844 - val_loss: 1.9470 - val_accuracy: 0.0416\n",
            "Epoch 114/200\n",
            "174/174 [==============================] - 17s 96ms/step - loss: 0.0188 - accuracy: 0.1791 - val_loss: 1.9035 - val_accuracy: 0.0408\n",
            "Epoch 115/200\n",
            "174/174 [==============================] - 17s 95ms/step - loss: 0.0171 - accuracy: 0.1793 - val_loss: 1.9138 - val_accuracy: 0.0407\n",
            "Epoch 116/200\n",
            "174/174 [==============================] - 17s 95ms/step - loss: 0.0177 - accuracy: 0.1835 - val_loss: 1.8982 - val_accuracy: 0.0409\n",
            "Epoch 117/200\n",
            "174/174 [==============================] - 17s 96ms/step - loss: 0.0167 - accuracy: 0.1895 - val_loss: 1.9314 - val_accuracy: 0.0416\n",
            "Epoch 118/200\n",
            "174/174 [==============================] - 17s 96ms/step - loss: 0.0180 - accuracy: 0.1841 - val_loss: 1.9062 - val_accuracy: 0.0396\n",
            "Epoch 119/200\n",
            "174/174 [==============================] - 17s 95ms/step - loss: 0.0166 - accuracy: 0.1867 - val_loss: 1.9448 - val_accuracy: 0.0401\n",
            "Epoch 120/200\n",
            "174/174 [==============================] - 17s 96ms/step - loss: 0.0167 - accuracy: 0.1819 - val_loss: 1.9234 - val_accuracy: 0.0400\n",
            "Epoch 121/200\n",
            "174/174 [==============================] - 17s 96ms/step - loss: 0.0158 - accuracy: 0.1871 - val_loss: 1.9571 - val_accuracy: 0.0417\n",
            "Epoch 122/200\n",
            "174/174 [==============================] - 17s 96ms/step - loss: 0.0153 - accuracy: 0.1758 - val_loss: 1.9438 - val_accuracy: 0.0417\n",
            "Epoch 123/200\n",
            "174/174 [==============================] - 17s 95ms/step - loss: 0.0160 - accuracy: 0.1873 - val_loss: 1.9734 - val_accuracy: 0.0413\n",
            "Epoch 124/200\n",
            "174/174 [==============================] - 17s 95ms/step - loss: 0.0168 - accuracy: 0.1895 - val_loss: 1.9342 - val_accuracy: 0.0405\n",
            "Epoch 125/200\n",
            "174/174 [==============================] - 17s 96ms/step - loss: 0.0152 - accuracy: 0.1751 - val_loss: 1.9740 - val_accuracy: 0.0399\n",
            "Epoch 126/200\n",
            "174/174 [==============================] - 17s 96ms/step - loss: 0.0141 - accuracy: 0.1861 - val_loss: 1.9711 - val_accuracy: 0.0403\n",
            "Epoch 127/200\n",
            "174/174 [==============================] - 17s 96ms/step - loss: 0.0143 - accuracy: 0.1830 - val_loss: 1.9836 - val_accuracy: 0.0409\n",
            "Epoch 128/200\n",
            "174/174 [==============================] - 17s 96ms/step - loss: 0.0140 - accuracy: 0.1858 - val_loss: 1.9781 - val_accuracy: 0.0410\n",
            "Epoch 129/200\n",
            "174/174 [==============================] - 17s 96ms/step - loss: 0.0136 - accuracy: 0.1805 - val_loss: 1.9071 - val_accuracy: 0.0414\n",
            "Epoch 130/200\n",
            "174/174 [==============================] - 17s 96ms/step - loss: 0.0163 - accuracy: 0.1833 - val_loss: 1.9428 - val_accuracy: 0.0402\n",
            "Epoch 131/200\n",
            "174/174 [==============================] - 17s 96ms/step - loss: 0.0135 - accuracy: 0.1841 - val_loss: 1.9826 - val_accuracy: 0.0395\n",
            "Epoch 132/200\n",
            "174/174 [==============================] - 17s 96ms/step - loss: 0.0139 - accuracy: 0.1845 - val_loss: 1.9777 - val_accuracy: 0.0403\n",
            "Epoch 133/200\n",
            "174/174 [==============================] - 17s 96ms/step - loss: 0.0139 - accuracy: 0.1827 - val_loss: 1.9947 - val_accuracy: 0.0417\n",
            "Epoch 134/200\n",
            "174/174 [==============================] - 17s 96ms/step - loss: 0.0136 - accuracy: 0.1869 - val_loss: 1.9937 - val_accuracy: 0.0398\n",
            "Epoch 135/200\n",
            "174/174 [==============================] - 17s 97ms/step - loss: 0.0143 - accuracy: 0.1806 - val_loss: 1.9559 - val_accuracy: 0.0412\n",
            "Epoch 136/200\n",
            "174/174 [==============================] - 17s 96ms/step - loss: 0.0134 - accuracy: 0.1899 - val_loss: 1.9917 - val_accuracy: 0.0419\n",
            "Epoch 137/200\n",
            "174/174 [==============================] - 17s 96ms/step - loss: 0.0127 - accuracy: 0.1803 - val_loss: 1.9903 - val_accuracy: 0.0402\n",
            "Epoch 138/200\n",
            "174/174 [==============================] - 17s 96ms/step - loss: 0.0128 - accuracy: 0.1831 - val_loss: 1.9601 - val_accuracy: 0.0409\n",
            "Epoch 139/200\n",
            "174/174 [==============================] - 17s 96ms/step - loss: 0.0145 - accuracy: 0.1822 - val_loss: 1.9688 - val_accuracy: 0.0415\n",
            "Epoch 140/200\n",
            "174/174 [==============================] - 17s 96ms/step - loss: 0.0141 - accuracy: 0.1791 - val_loss: 1.9948 - val_accuracy: 0.0406\n",
            "Epoch 141/200\n",
            "174/174 [==============================] - 17s 96ms/step - loss: 0.0120 - accuracy: 0.1816 - val_loss: 1.9649 - val_accuracy: 0.0413\n",
            "Epoch 142/200\n",
            "174/174 [==============================] - 17s 96ms/step - loss: 0.0128 - accuracy: 0.1817 - val_loss: 2.0442 - val_accuracy: 0.0410\n",
            "Epoch 143/200\n",
            "174/174 [==============================] - 17s 96ms/step - loss: 0.0134 - accuracy: 0.1762 - val_loss: 1.9578 - val_accuracy: 0.0422\n",
            "Epoch 144/200\n",
            "174/174 [==============================] - 17s 96ms/step - loss: 0.0118 - accuracy: 0.1852 - val_loss: 1.9905 - val_accuracy: 0.0423\n",
            "Epoch 145/200\n",
            "174/174 [==============================] - 17s 95ms/step - loss: 0.0131 - accuracy: 0.1828 - val_loss: 1.9884 - val_accuracy: 0.0407\n",
            "Epoch 146/200\n",
            "174/174 [==============================] - 17s 96ms/step - loss: 0.0113 - accuracy: 0.1833 - val_loss: 1.9807 - val_accuracy: 0.0401\n",
            "Epoch 147/200\n",
            "174/174 [==============================] - 17s 96ms/step - loss: 0.0120 - accuracy: 0.1845 - val_loss: 1.9707 - val_accuracy: 0.0418\n",
            "Epoch 148/200\n",
            "174/174 [==============================] - 17s 96ms/step - loss: 0.0110 - accuracy: 0.1831 - val_loss: 1.9920 - val_accuracy: 0.0396\n",
            "Epoch 149/200\n",
            "174/174 [==============================] - 17s 97ms/step - loss: 0.0113 - accuracy: 0.1906 - val_loss: 1.9606 - val_accuracy: 0.0408\n",
            "Epoch 150/200\n",
            "174/174 [==============================] - 17s 96ms/step - loss: 0.0113 - accuracy: 0.1805 - val_loss: 2.0025 - val_accuracy: 0.0413\n",
            "Epoch 151/200\n",
            "174/174 [==============================] - 17s 97ms/step - loss: 0.0109 - accuracy: 0.1803 - val_loss: 2.0100 - val_accuracy: 0.0400\n",
            "Epoch 152/200\n",
            "174/174 [==============================] - 17s 97ms/step - loss: 0.0119 - accuracy: 0.1828 - val_loss: 1.9897 - val_accuracy: 0.0412\n",
            "Epoch 153/200\n",
            "174/174 [==============================] - 17s 96ms/step - loss: 0.0111 - accuracy: 0.1881 - val_loss: 1.9703 - val_accuracy: 0.0419\n",
            "Epoch 154/200\n",
            "174/174 [==============================] - 17s 96ms/step - loss: 0.0107 - accuracy: 0.1865 - val_loss: 2.0059 - val_accuracy: 0.0413\n",
            "Epoch 155/200\n",
            "174/174 [==============================] - 17s 95ms/step - loss: 0.0131 - accuracy: 0.1854 - val_loss: 1.9760 - val_accuracy: 0.0395\n",
            "Epoch 156/200\n",
            "174/174 [==============================] - 17s 96ms/step - loss: 0.0117 - accuracy: 0.1874 - val_loss: 1.9943 - val_accuracy: 0.0425\n",
            "Epoch 157/200\n",
            "174/174 [==============================] - 17s 96ms/step - loss: 0.0111 - accuracy: 0.1810 - val_loss: 2.0352 - val_accuracy: 0.0407\n",
            "Epoch 158/200\n",
            "174/174 [==============================] - 17s 96ms/step - loss: 0.0111 - accuracy: 0.1819 - val_loss: 1.9873 - val_accuracy: 0.0419\n",
            "Epoch 159/200\n",
            "174/174 [==============================] - 17s 96ms/step - loss: 0.0112 - accuracy: 0.1898 - val_loss: 2.0006 - val_accuracy: 0.0411\n",
            "Epoch 160/200\n",
            "174/174 [==============================] - 17s 97ms/step - loss: 0.0115 - accuracy: 0.1849 - val_loss: 1.9754 - val_accuracy: 0.0404\n",
            "Epoch 161/200\n",
            "174/174 [==============================] - 17s 97ms/step - loss: 0.0110 - accuracy: 0.1832 - val_loss: 1.9910 - val_accuracy: 0.0410\n",
            "Epoch 162/200\n",
            "174/174 [==============================] - 17s 96ms/step - loss: 0.0116 - accuracy: 0.1873 - val_loss: 2.0184 - val_accuracy: 0.0425\n",
            "Epoch 163/200\n",
            "174/174 [==============================] - 17s 96ms/step - loss: 0.0100 - accuracy: 0.1807 - val_loss: 2.0430 - val_accuracy: 0.0414\n",
            "Epoch 164/200\n",
            "174/174 [==============================] - 17s 96ms/step - loss: 0.0117 - accuracy: 0.1802 - val_loss: 2.0088 - val_accuracy: 0.0416\n",
            "Epoch 165/200\n",
            "174/174 [==============================] - 17s 96ms/step - loss: 0.0104 - accuracy: 0.1795 - val_loss: 2.0244 - val_accuracy: 0.0420\n",
            "Epoch 166/200\n",
            "174/174 [==============================] - 17s 96ms/step - loss: 0.0113 - accuracy: 0.1855 - val_loss: 2.0017 - val_accuracy: 0.0405\n",
            "Epoch 167/200\n",
            "174/174 [==============================] - 17s 96ms/step - loss: 0.0115 - accuracy: 0.1852 - val_loss: 2.0308 - val_accuracy: 0.0414\n",
            "Epoch 168/200\n",
            "174/174 [==============================] - 17s 96ms/step - loss: 0.0109 - accuracy: 0.1839 - val_loss: 2.0383 - val_accuracy: 0.0417\n",
            "Epoch 169/200\n",
            "174/174 [==============================] - 17s 96ms/step - loss: 0.0100 - accuracy: 0.1810 - val_loss: 2.0327 - val_accuracy: 0.0404\n",
            "Epoch 170/200\n",
            "174/174 [==============================] - 17s 96ms/step - loss: 0.0107 - accuracy: 0.1860 - val_loss: 2.0094 - val_accuracy: 0.0409\n",
            "Epoch 171/200\n",
            "174/174 [==============================] - 17s 97ms/step - loss: 0.0110 - accuracy: 0.1898 - val_loss: 1.9888 - val_accuracy: 0.0419\n",
            "Epoch 172/200\n",
            "174/174 [==============================] - 17s 96ms/step - loss: 0.0102 - accuracy: 0.1767 - val_loss: 2.0201 - val_accuracy: 0.0409\n",
            "Epoch 173/200\n",
            "174/174 [==============================] - 17s 96ms/step - loss: 0.0095 - accuracy: 0.1864 - val_loss: 2.0158 - val_accuracy: 0.0413\n",
            "Epoch 174/200\n",
            "174/174 [==============================] - 17s 97ms/step - loss: 0.0093 - accuracy: 0.1838 - val_loss: 2.0249 - val_accuracy: 0.0403\n",
            "Epoch 175/200\n",
            "174/174 [==============================] - 17s 96ms/step - loss: 0.0100 - accuracy: 0.1888 - val_loss: 2.0200 - val_accuracy: 0.0418\n",
            "Epoch 176/200\n",
            "174/174 [==============================] - 17s 96ms/step - loss: 0.0106 - accuracy: 0.1907 - val_loss: 2.0062 - val_accuracy: 0.0421\n",
            "Epoch 177/200\n",
            "174/174 [==============================] - 17s 96ms/step - loss: 0.0097 - accuracy: 0.1882 - val_loss: 1.9909 - val_accuracy: 0.0424\n",
            "Epoch 178/200\n",
            "174/174 [==============================] - 17s 97ms/step - loss: 0.0098 - accuracy: 0.1923 - val_loss: 2.0271 - val_accuracy: 0.0407\n",
            "Epoch 179/200\n",
            "174/174 [==============================] - 17s 96ms/step - loss: 0.0103 - accuracy: 0.1889 - val_loss: 1.9972 - val_accuracy: 0.0396\n",
            "Epoch 180/200\n",
            "174/174 [==============================] - 17s 96ms/step - loss: 0.0107 - accuracy: 0.1870 - val_loss: 2.0229 - val_accuracy: 0.0407\n",
            "Epoch 181/200\n",
            "174/174 [==============================] - 17s 96ms/step - loss: 0.0105 - accuracy: 0.1865 - val_loss: 2.0448 - val_accuracy: 0.0415\n",
            "Epoch 182/200\n",
            "174/174 [==============================] - 17s 97ms/step - loss: 0.0113 - accuracy: 0.1815 - val_loss: 2.0014 - val_accuracy: 0.0417\n",
            "Epoch 183/200\n",
            "174/174 [==============================] - 17s 96ms/step - loss: 0.0103 - accuracy: 0.1904 - val_loss: 2.0402 - val_accuracy: 0.0408\n",
            "Epoch 184/200\n",
            "174/174 [==============================] - 17s 96ms/step - loss: 0.0101 - accuracy: 0.1881 - val_loss: 2.0021 - val_accuracy: 0.0430\n",
            "Epoch 185/200\n",
            "174/174 [==============================] - 17s 96ms/step - loss: 0.0087 - accuracy: 0.1871 - val_loss: 2.0474 - val_accuracy: 0.0407\n",
            "Epoch 186/200\n",
            "174/174 [==============================] - 17s 97ms/step - loss: 0.0098 - accuracy: 0.1806 - val_loss: 2.0341 - val_accuracy: 0.0410\n",
            "Epoch 187/200\n",
            "174/174 [==============================] - 17s 96ms/step - loss: 0.0099 - accuracy: 0.1825 - val_loss: 2.0035 - val_accuracy: 0.0424\n",
            "Epoch 188/200\n",
            "174/174 [==============================] - 17s 97ms/step - loss: 0.0094 - accuracy: 0.1806 - val_loss: 2.0082 - val_accuracy: 0.0421\n",
            "Epoch 189/200\n",
            "174/174 [==============================] - 17s 96ms/step - loss: 0.0093 - accuracy: 0.1821 - val_loss: 1.9805 - val_accuracy: 0.0423\n",
            "Epoch 190/200\n",
            "174/174 [==============================] - 17s 96ms/step - loss: 0.0095 - accuracy: 0.1850 - val_loss: 1.9668 - val_accuracy: 0.0419\n",
            "Epoch 191/200\n",
            "174/174 [==============================] - 17s 96ms/step - loss: 0.0092 - accuracy: 0.1796 - val_loss: 2.0070 - val_accuracy: 0.0418\n",
            "Epoch 192/200\n",
            "174/174 [==============================] - 17s 97ms/step - loss: 0.0086 - accuracy: 0.1880 - val_loss: 2.0454 - val_accuracy: 0.0404\n",
            "Epoch 193/200\n",
            "174/174 [==============================] - 17s 96ms/step - loss: 0.0093 - accuracy: 0.1780 - val_loss: 2.0147 - val_accuracy: 0.0417\n",
            "Epoch 194/200\n",
            "174/174 [==============================] - 17s 96ms/step - loss: 0.0103 - accuracy: 0.1833 - val_loss: 1.9822 - val_accuracy: 0.0413\n",
            "Epoch 195/200\n",
            "174/174 [==============================] - 17s 96ms/step - loss: 0.0092 - accuracy: 0.1843 - val_loss: 2.0247 - val_accuracy: 0.0423\n",
            "Epoch 196/200\n",
            "174/174 [==============================] - 17s 96ms/step - loss: 0.0087 - accuracy: 0.1827 - val_loss: 2.0532 - val_accuracy: 0.0419\n",
            "Epoch 197/200\n",
            "174/174 [==============================] - 17s 96ms/step - loss: 0.0090 - accuracy: 0.1760 - val_loss: 2.0374 - val_accuracy: 0.0410\n",
            "Epoch 198/200\n",
            "174/174 [==============================] - 17s 96ms/step - loss: 0.0099 - accuracy: 0.1825 - val_loss: 2.0416 - val_accuracy: 0.0424\n",
            "Epoch 199/200\n",
            "174/174 [==============================] - 17s 96ms/step - loss: 0.0095 - accuracy: 0.1856 - val_loss: 2.0102 - val_accuracy: 0.0413\n",
            "Epoch 200/200\n",
            "174/174 [==============================] - 17s 97ms/step - loss: 0.0100 - accuracy: 0.1873 - val_loss: 2.0201 - val_accuracy: 0.0420\n"
          ],
          "name": "stdout"
        },
        {
          "output_type": "execute_result",
          "data": {
            "text/plain": [
              "<tensorflow.python.keras.callbacks.History at 0x7f296a623bd0>"
            ]
          },
          "metadata": {
            "tags": []
          },
          "execution_count": 19
        }
      ]
    },
    {
      "cell_type": "markdown",
      "metadata": {
        "id": "ALnDsBM6Rius"
      },
      "source": [
        ""
      ]
    },
    {
      "cell_type": "code",
      "metadata": {
        "id": "ywUPegsoF2g0"
      },
      "source": [
        "training_model.save_weights('/content/drive/MyDrive/Assignment/model2.h5')"
      ],
      "execution_count": null,
      "outputs": []
    },
    {
      "cell_type": "code",
      "metadata": {
        "id": "JB5--FFLxogt"
      },
      "source": [
        "\n",
        "encoder_model = tf.keras.Model(encoder_inputs,encoder_states)\n",
        "\n",
        "latent_dim = 1024\n",
        "\n",
        "# encoder_outputss = tf.keras.layers.Input(shape=(None,latent_dim,))\n",
        "decoder_state_input_hidden = tf.keras.layers.Input(shape=(latent_dim,))\n",
        "decoder_state_input_cell = tf.keras.layers.Input(shape=(latent_dim,))\n",
        "decoder_state_input_hidden2 = tf.keras.layers.Input(shape=(latent_dim,))\n",
        "decoder_state_input_cell2 = tf.keras.layers.Input(shape=(latent_dim,))\n",
        "# print(decoder_state_input_hidden.shape)\n",
        "decoder_states_inputs = [decoder_state_input_hidden, decoder_state_input_cell]\n",
        "decoder_states_inputs2 = [decoder_state_input_hidden2, decoder_state_input_cell2]\n",
        "decoder_output, state_hidden, state_cell = decoder_lstm(decoder_embedding, initial_state=decoder_states_inputs)\n",
        "decoder_outputs, state_hidden2, state_cell2 = decoder_lstm2(decoder_output, initial_state=decoder_states_inputs2)\n",
        "# decoder_outputs = attention([encoder_outputss,decoder_outputs])\n",
        "decoder_states = [[state_hidden, state_cell],[state_hidden2,state_cell2]]\n",
        "decoder_outputs = decoder_dense(decoder_outputs)\n",
        "decoder_model = tf.keras.Model([decoder_inputs]+decoder_states_inputs+decoder_states_inputs2,[decoder_outputs]+ decoder_states)\n",
        "\n",
        "def decode_response(test_input):\n",
        "    states_value = encoder_model.predict(test_input)\n",
        "    print(len(states_value))\n",
        "    # encoder_outputs =states_value[0]\n",
        "    # states_value =[states_value[],states_value[2]]\n",
        "    target_seq = np.zeros((1, 1))\n",
        "    target_seq[0,0] = target_features_dict[\"<START>\"]\n",
        "    decoded_sentence = ''\n",
        "    \n",
        "    stop_condition = False\n",
        "    while not stop_condition:\n",
        "        output_tokens, state_value1, state_value2 = decoder_model.predict([target_seq] + states_value[0]+states_value[1])\n",
        "        sampled_token_index = np.argmax(output_tokens[0, -1, :])\n",
        "        sampled_token = reverse_target_features_dict[sampled_token_index]\n",
        "        decoded_sentence += \" \" + sampled_token\n",
        "\n",
        "        if (sampled_token == '<END>' or len(decoded_sentence) > max_decoder_seq_length):\n",
        "            stop_condition = True\n",
        "        # target_seq = np.zeros((1, 1, num_decoder_tokens))\n",
        "        target_seq[0, 0] = sampled_token_index #the resut of the number \n",
        "        states_value = [state_value1, state_value2]\n",
        "    return decoded_sentence"
      ],
      "execution_count": null,
      "outputs": []
    },
    {
      "cell_type": "code",
      "metadata": {
        "id": "JEVusO3kpyZ8",
        "colab": {
          "base_uri": "https://localhost:8080/"
        },
        "outputId": "1bf12fa4-8165-4e12-8d45-d0e6fab4a169"
      },
      "source": [
        "encoder_model.summary()"
      ],
      "execution_count": null,
      "outputs": [
        {
          "output_type": "stream",
          "text": [
            "Model: \"model_1\"\n",
            "_________________________________________________________________\n",
            "Layer (type)                 Output Shape              Param #   \n",
            "=================================================================\n",
            "input_1 (InputLayer)         [(None, None)]            0         \n",
            "_________________________________________________________________\n",
            "embedding (Embedding)        (None, None, 512)         1486848   \n",
            "_________________________________________________________________\n",
            "lstm (LSTM)                  [(None, None, 1024), (Non 6295552   \n",
            "_________________________________________________________________\n",
            "lstm_1 (LSTM)                [(None, None, 1024), (Non 8392704   \n",
            "=================================================================\n",
            "Total params: 16,175,104\n",
            "Trainable params: 16,175,104\n",
            "Non-trainable params: 0\n",
            "_________________________________________________________________\n"
          ],
          "name": "stdout"
        }
      ]
    },
    {
      "cell_type": "code",
      "metadata": {
        "id": "YTqWnos-oxDJ",
        "colab": {
          "base_uri": "https://localhost:8080/"
        },
        "outputId": "269e069e-a1a4-42f3-c027-23d43ca305c3"
      },
      "source": [
        "decoder_model.summary()"
      ],
      "execution_count": null,
      "outputs": [
        {
          "output_type": "stream",
          "text": [
            "Model: \"model_2\"\n",
            "__________________________________________________________________________________________________\n",
            "Layer (type)                    Output Shape         Param #     Connected to                     \n",
            "==================================================================================================\n",
            "input_2 (InputLayer)            [(None, None)]       0                                            \n",
            "__________________________________________________________________________________________________\n",
            "embedding_1 (Embedding)         (None, None, 512)    1307136     input_2[0][0]                    \n",
            "__________________________________________________________________________________________________\n",
            "input_3 (InputLayer)            [(None, 1024)]       0                                            \n",
            "__________________________________________________________________________________________________\n",
            "input_4 (InputLayer)            [(None, 1024)]       0                                            \n",
            "__________________________________________________________________________________________________\n",
            "lstm_2 (LSTM)                   [(None, None, 1024), 6295552     embedding_1[0][0]                \n",
            "                                                                 input_3[0][0]                    \n",
            "                                                                 input_4[0][0]                    \n",
            "__________________________________________________________________________________________________\n",
            "input_5 (InputLayer)            [(None, 1024)]       0                                            \n",
            "__________________________________________________________________________________________________\n",
            "input_6 (InputLayer)            [(None, 1024)]       0                                            \n",
            "__________________________________________________________________________________________________\n",
            "lstm_3 (LSTM)                   [(None, None, 1024), 8392704     lstm_2[1][0]                     \n",
            "                                                                 input_5[0][0]                    \n",
            "                                                                 input_6[0][0]                    \n",
            "__________________________________________________________________________________________________\n",
            "dense (Dense)                   (None, None, 2553)   2616825     lstm_3[1][0]                     \n",
            "==================================================================================================\n",
            "Total params: 18,612,217\n",
            "Trainable params: 18,612,217\n",
            "Non-trainable params: 0\n",
            "__________________________________________________________________________________________________\n"
          ],
          "name": "stdout"
        }
      ]
    },
    {
      "cell_type": "code",
      "metadata": {
        "id": "Xe-11IycmeUZ",
        "colab": {
          "base_uri": "https://localhost:8080/"
        },
        "outputId": "871c57a6-7ba0-4966-e3e7-a6e7ea52d78a"
      },
      "source": [
        "\n",
        "predict = encoder_model.predict(np.array([encoder_input_data[2]]))\n",
        "\n",
        "print(encoder_input_data[0])\n",
        "print(len(predict))\n",
        "target_seq = np.array([[target_features_dict[\"<START>\"]]])\n",
        "print(predict[0][0])\n",
        "# target_seq = np.zeros((1, 1))\n",
        "# target_seq[0, 0] =target_features_dict[\"<START>\"]\n",
        "# target_seq[0,0] = target_features_dict[\"<START>\"]\n",
        "# print(target_seq)\n",
        "output = decoder_model.predict([target_seq]+predict[0]+predict[1])\n",
        "print(len(output))\n",
        "print(np.argmax(output[0][0,-1,:]))"
      ],
      "execution_count": null,
      "outputs": [
        {
          "output_type": "stream",
          "text": [
            "[1187    0    0    0    0    0    0    0    0    0    0    0    0    0\n",
            "    0    0    0    0    0    0    0    0    0    0    0    0    0    0\n",
            "    0    0    0    0    0    0    0    0    0    0    0    0    0    0\n",
            "    0    0    0    0    0]\n",
            "2\n",
            "[[-7.2033421e-05 -3.0542726e-03 -1.2598293e-05 ...  2.3697110e-02\n",
            "  -2.3705403e-05  2.4945388e-04]]\n",
            "3\n",
            "1501\n"
          ],
          "name": "stdout"
        }
      ]
    },
    {
      "cell_type": "code",
      "metadata": {
        "id": "7v6d1hULyLkT",
        "colab": {
          "base_uri": "https://localhost:8080/",
          "height": 622
        },
        "outputId": "c8e87c44-397d-4a48-e2b9-4ee6e92576f7"
      },
      "source": [
        "class ChatBot:\n",
        "  negative_responses = (\"no\", \"nope\", \"nah\", \"naw\", \"not a chance\", \"sorry\")\n",
        "  exit_commands = (\"quit\", \"pause\", \"exit\", \"goodbye\", \"bye\", \"later\", \"stop\")\n",
        "  def start_chat(self):\n",
        "    user_response = input(\"Hi, I'm a chatbot trained on random dialogs. Would you like to chat with me?\\n\")\n",
        "    \n",
        "    if user_response in self.negative_responses:\n",
        "      print(\"Ok, have a great day!\")\n",
        "      return\n",
        "    self.chat(user_response)\n",
        "  def chat(self, reply):\n",
        "    while not self.make_exit(reply):\n",
        "      reply = input(self.generate_response(reply)+\"\\n\")\n",
        "    \n",
        "  def string_to_matrix(self, user_input):\n",
        "    tokens = re.findall(r\"[\\w']+|[^\\s\\w]\", user_input)\n",
        "    user_input_matrix = np.zeros((1, max_encoder_seq_length),dtype='int') # since the shape we need is (1,40)\n",
        "    for timestep, token in enumerate(tokens):\n",
        "        #Assign 1. for the current line, timestep, & word in encoder_input_data\n",
        "        user_input_matrix[0,timestep] = input_features_dict[token]\n",
        "    return user_input_matrix\n",
        "  \n",
        "  def generate_response(self, user_input):\n",
        "    input_matrix = self.string_to_matrix(user_input)\n",
        "    chatbot_response = decode_response(input_matrix)\n",
        "    chatbot_response = chatbot_response.replace(\"<START>\",'')\n",
        "    chatbot_response = chatbot_response.replace(\"<END>\",'') \n",
        "    return chatbot_response\n",
        "  def make_exit(self, reply):\n",
        "    for exit_command in self.exit_commands:\n",
        "      if exit_command in reply:\n",
        "        print(\"Ok, have a great day!\")\n",
        "        return True\n",
        "    return False\n",
        "\n",
        "chatbot = ChatBot()\n",
        "chatbot.start_chat()"
      ],
      "execution_count": null,
      "outputs": [
        {
          "output_type": "stream",
          "text": [
            "Hi, I'm a chatbot trained on random dialogs. Would you like to chat with me?\n",
            "hi\n",
            "2\n",
            " hi there how are you \n",
            "i am fine and what about you\n",
            "2\n",
            " i m fine too happy to have someone to talk to i\n",
            "who are you\n",
            "2\n",
            " i m rdany a robot \n",
            "what do you do \n",
            "2\n",
            " i love my message of unity and fellowship between\n",
            "so how can you help me\n",
            "2\n",
            " i was charging so boring so far haha i overheat\n",
            "do you laugh\n"
          ],
          "name": "stdout"
        },
        {
          "output_type": "error",
          "ename": "KeyError",
          "evalue": "ignored",
          "traceback": [
            "\u001b[0;31m---------------------------------------------------------------------------\u001b[0m",
            "\u001b[0;31mKeyError\u001b[0m                                  Traceback (most recent call last)",
            "\u001b[0;32m<ipython-input-25-4d2c4dd795cd>\u001b[0m in \u001b[0;36m<module>\u001b[0;34m()\u001b[0m\n\u001b[1;32m     35\u001b[0m \u001b[0;34m\u001b[0m\u001b[0m\n\u001b[1;32m     36\u001b[0m \u001b[0mchatbot\u001b[0m \u001b[0;34m=\u001b[0m \u001b[0mChatBot\u001b[0m\u001b[0;34m(\u001b[0m\u001b[0;34m)\u001b[0m\u001b[0;34m\u001b[0m\u001b[0;34m\u001b[0m\u001b[0m\n\u001b[0;32m---> 37\u001b[0;31m \u001b[0mchatbot\u001b[0m\u001b[0;34m.\u001b[0m\u001b[0mstart_chat\u001b[0m\u001b[0;34m(\u001b[0m\u001b[0;34m)\u001b[0m\u001b[0;34m\u001b[0m\u001b[0;34m\u001b[0m\u001b[0m\n\u001b[0m",
            "\u001b[0;32m<ipython-input-25-4d2c4dd795cd>\u001b[0m in \u001b[0;36mstart_chat\u001b[0;34m(self)\u001b[0m\n\u001b[1;32m      8\u001b[0m       \u001b[0mprint\u001b[0m\u001b[0;34m(\u001b[0m\u001b[0;34m\"Ok, have a great day!\"\u001b[0m\u001b[0;34m)\u001b[0m\u001b[0;34m\u001b[0m\u001b[0;34m\u001b[0m\u001b[0m\n\u001b[1;32m      9\u001b[0m       \u001b[0;32mreturn\u001b[0m\u001b[0;34m\u001b[0m\u001b[0;34m\u001b[0m\u001b[0m\n\u001b[0;32m---> 10\u001b[0;31m     \u001b[0mself\u001b[0m\u001b[0;34m.\u001b[0m\u001b[0mchat\u001b[0m\u001b[0;34m(\u001b[0m\u001b[0muser_response\u001b[0m\u001b[0;34m)\u001b[0m\u001b[0;34m\u001b[0m\u001b[0;34m\u001b[0m\u001b[0m\n\u001b[0m\u001b[1;32m     11\u001b[0m   \u001b[0;32mdef\u001b[0m \u001b[0mchat\u001b[0m\u001b[0;34m(\u001b[0m\u001b[0mself\u001b[0m\u001b[0;34m,\u001b[0m \u001b[0mreply\u001b[0m\u001b[0;34m)\u001b[0m\u001b[0;34m:\u001b[0m\u001b[0;34m\u001b[0m\u001b[0;34m\u001b[0m\u001b[0m\n\u001b[1;32m     12\u001b[0m     \u001b[0;32mwhile\u001b[0m \u001b[0;32mnot\u001b[0m \u001b[0mself\u001b[0m\u001b[0;34m.\u001b[0m\u001b[0mmake_exit\u001b[0m\u001b[0;34m(\u001b[0m\u001b[0mreply\u001b[0m\u001b[0;34m)\u001b[0m\u001b[0;34m:\u001b[0m\u001b[0;34m\u001b[0m\u001b[0;34m\u001b[0m\u001b[0m\n",
            "\u001b[0;32m<ipython-input-25-4d2c4dd795cd>\u001b[0m in \u001b[0;36mchat\u001b[0;34m(self, reply)\u001b[0m\n\u001b[1;32m     11\u001b[0m   \u001b[0;32mdef\u001b[0m \u001b[0mchat\u001b[0m\u001b[0;34m(\u001b[0m\u001b[0mself\u001b[0m\u001b[0;34m,\u001b[0m \u001b[0mreply\u001b[0m\u001b[0;34m)\u001b[0m\u001b[0;34m:\u001b[0m\u001b[0;34m\u001b[0m\u001b[0;34m\u001b[0m\u001b[0m\n\u001b[1;32m     12\u001b[0m     \u001b[0;32mwhile\u001b[0m \u001b[0;32mnot\u001b[0m \u001b[0mself\u001b[0m\u001b[0;34m.\u001b[0m\u001b[0mmake_exit\u001b[0m\u001b[0;34m(\u001b[0m\u001b[0mreply\u001b[0m\u001b[0;34m)\u001b[0m\u001b[0;34m:\u001b[0m\u001b[0;34m\u001b[0m\u001b[0;34m\u001b[0m\u001b[0m\n\u001b[0;32m---> 13\u001b[0;31m       \u001b[0mreply\u001b[0m \u001b[0;34m=\u001b[0m \u001b[0minput\u001b[0m\u001b[0;34m(\u001b[0m\u001b[0mself\u001b[0m\u001b[0;34m.\u001b[0m\u001b[0mgenerate_response\u001b[0m\u001b[0;34m(\u001b[0m\u001b[0mreply\u001b[0m\u001b[0;34m)\u001b[0m\u001b[0;34m+\u001b[0m\u001b[0;34m\"\\n\"\u001b[0m\u001b[0;34m)\u001b[0m\u001b[0;34m\u001b[0m\u001b[0;34m\u001b[0m\u001b[0m\n\u001b[0m\u001b[1;32m     14\u001b[0m \u001b[0;34m\u001b[0m\u001b[0m\n\u001b[1;32m     15\u001b[0m   \u001b[0;32mdef\u001b[0m \u001b[0mstring_to_matrix\u001b[0m\u001b[0;34m(\u001b[0m\u001b[0mself\u001b[0m\u001b[0;34m,\u001b[0m \u001b[0muser_input\u001b[0m\u001b[0;34m)\u001b[0m\u001b[0;34m:\u001b[0m\u001b[0;34m\u001b[0m\u001b[0;34m\u001b[0m\u001b[0m\n",
            "\u001b[0;32m<ipython-input-25-4d2c4dd795cd>\u001b[0m in \u001b[0;36mgenerate_response\u001b[0;34m(self, user_input)\u001b[0m\n\u001b[1;32m     22\u001b[0m \u001b[0;34m\u001b[0m\u001b[0m\n\u001b[1;32m     23\u001b[0m   \u001b[0;32mdef\u001b[0m \u001b[0mgenerate_response\u001b[0m\u001b[0;34m(\u001b[0m\u001b[0mself\u001b[0m\u001b[0;34m,\u001b[0m \u001b[0muser_input\u001b[0m\u001b[0;34m)\u001b[0m\u001b[0;34m:\u001b[0m\u001b[0;34m\u001b[0m\u001b[0;34m\u001b[0m\u001b[0m\n\u001b[0;32m---> 24\u001b[0;31m     \u001b[0minput_matrix\u001b[0m \u001b[0;34m=\u001b[0m \u001b[0mself\u001b[0m\u001b[0;34m.\u001b[0m\u001b[0mstring_to_matrix\u001b[0m\u001b[0;34m(\u001b[0m\u001b[0muser_input\u001b[0m\u001b[0;34m)\u001b[0m\u001b[0;34m\u001b[0m\u001b[0;34m\u001b[0m\u001b[0m\n\u001b[0m\u001b[1;32m     25\u001b[0m     \u001b[0mchatbot_response\u001b[0m \u001b[0;34m=\u001b[0m \u001b[0mdecode_response\u001b[0m\u001b[0;34m(\u001b[0m\u001b[0minput_matrix\u001b[0m\u001b[0;34m)\u001b[0m\u001b[0;34m\u001b[0m\u001b[0;34m\u001b[0m\u001b[0m\n\u001b[1;32m     26\u001b[0m     \u001b[0mchatbot_response\u001b[0m \u001b[0;34m=\u001b[0m \u001b[0mchatbot_response\u001b[0m\u001b[0;34m.\u001b[0m\u001b[0mreplace\u001b[0m\u001b[0;34m(\u001b[0m\u001b[0;34m\"<START>\"\u001b[0m\u001b[0;34m,\u001b[0m\u001b[0;34m''\u001b[0m\u001b[0;34m)\u001b[0m\u001b[0;34m\u001b[0m\u001b[0;34m\u001b[0m\u001b[0m\n",
            "\u001b[0;32m<ipython-input-25-4d2c4dd795cd>\u001b[0m in \u001b[0;36mstring_to_matrix\u001b[0;34m(self, user_input)\u001b[0m\n\u001b[1;32m     18\u001b[0m     \u001b[0;32mfor\u001b[0m \u001b[0mtimestep\u001b[0m\u001b[0;34m,\u001b[0m \u001b[0mtoken\u001b[0m \u001b[0;32min\u001b[0m \u001b[0menumerate\u001b[0m\u001b[0;34m(\u001b[0m\u001b[0mtokens\u001b[0m\u001b[0;34m)\u001b[0m\u001b[0;34m:\u001b[0m\u001b[0;34m\u001b[0m\u001b[0;34m\u001b[0m\u001b[0m\n\u001b[1;32m     19\u001b[0m         \u001b[0;31m#Assign 1. for the current line, timestep, & word in encoder_input_data\u001b[0m\u001b[0;34m\u001b[0m\u001b[0;34m\u001b[0m\u001b[0;34m\u001b[0m\u001b[0m\n\u001b[0;32m---> 20\u001b[0;31m         \u001b[0muser_input_matrix\u001b[0m\u001b[0;34m[\u001b[0m\u001b[0;36m0\u001b[0m\u001b[0;34m,\u001b[0m\u001b[0mtimestep\u001b[0m\u001b[0;34m]\u001b[0m \u001b[0;34m=\u001b[0m \u001b[0minput_features_dict\u001b[0m\u001b[0;34m[\u001b[0m\u001b[0mtoken\u001b[0m\u001b[0;34m]\u001b[0m\u001b[0;34m\u001b[0m\u001b[0;34m\u001b[0m\u001b[0m\n\u001b[0m\u001b[1;32m     21\u001b[0m     \u001b[0;32mreturn\u001b[0m \u001b[0muser_input_matrix\u001b[0m\u001b[0;34m\u001b[0m\u001b[0;34m\u001b[0m\u001b[0m\n\u001b[1;32m     22\u001b[0m \u001b[0;34m\u001b[0m\u001b[0m\n",
            "\u001b[0;31mKeyError\u001b[0m: 'laugh'"
          ]
        }
      ]
    },
    {
      "cell_type": "code",
      "metadata": {
        "id": "uVg1mskPeJfP"
      },
      "source": [
        "h"
      ],
      "execution_count": null,
      "outputs": []
    }
  ]
}